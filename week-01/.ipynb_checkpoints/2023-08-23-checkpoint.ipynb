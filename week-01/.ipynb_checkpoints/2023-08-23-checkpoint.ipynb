{
 "cells": [
  {
   "cell_type": "code",
   "execution_count": 1,
   "id": "d30cfa76-bd43-4591-9b88-317a7c0491cb",
   "metadata": {},
   "outputs": [
    {
     "data": {
      "text/plain": [
       "10"
      ]
     },
     "execution_count": 1,
     "metadata": {},
     "output_type": "execute_result"
    }
   ],
   "source": [
    "3 + 7"
   ]
  },
  {
   "cell_type": "code",
   "execution_count": 2,
   "id": "172437cb-bcf5-45d0-81b5-dfd378cc8dd6",
   "metadata": {},
   "outputs": [
    {
     "name": "stdout",
     "output_type": "stream",
     "text": [
      "hello world\n"
     ]
    }
   ],
   "source": [
    "print(\"hello world\")"
   ]
  },
  {
   "cell_type": "code",
   "execution_count": 3,
   "id": "f57e3825-e169-406d-9d54-0dae068430b8",
   "metadata": {},
   "outputs": [],
   "source": [
    "x = 3 + 7"
   ]
  },
  {
   "cell_type": "code",
   "execution_count": 4,
   "id": "1b69658e-1532-42ac-acdc-024035a102d3",
   "metadata": {},
   "outputs": [
    {
     "data": {
      "text/plain": [
       "10"
      ]
     },
     "execution_count": 4,
     "metadata": {},
     "output_type": "execute_result"
    }
   ],
   "source": [
    "x"
   ]
  },
  {
   "cell_type": "code",
   "execution_count": 5,
   "id": "c88c39bd-a4dc-46b9-bc0d-a36e3a4fe68f",
   "metadata": {},
   "outputs": [
    {
     "name": "stdout",
     "output_type": "stream",
     "text": [
      "10\n"
     ]
    }
   ],
   "source": [
    "print(x)"
   ]
  },
  {
   "cell_type": "code",
   "execution_count": 6,
   "id": "dd110315-c927-4860-8ad9-953449c137de",
   "metadata": {},
   "outputs": [
    {
     "name": "stdout",
     "output_type": "stream",
     "text": [
      "hello world\n"
     ]
    }
   ],
   "source": [
    "print(\"hello world\")"
   ]
  },
  {
   "cell_type": "markdown",
   "id": "0850852c-6b51-4122-bbc5-ef434136c183",
   "metadata": {},
   "source": [
    "## Markdown\n",
    "\n",
    "This is a markdown cell.\n",
    "\n",
    "So what?\n",
    "\n",
    "Well we can do things like **bold** or *italics*.\n",
    "\n",
    "How about ***bold and italics***\n",
    "\n",
    "### Subsection\n",
    "Now we are in a subsection.\n",
    "\n",
    "### Lists\n",
    "\n",
    "Here is stuff .\n",
    "\n",
    "\n",
    "We can do unordered lists:\n",
    "\n",
    "- first\n",
    "- second\n",
    "- third\n",
    "\n",
    "\n",
    "Or numbered lists\n",
    "\n",
    "1. first\n",
    "2. second\n",
    "2. third\n",
    "\n",
    "\n",
    "## Math\n",
    "\n",
    "The formulae for the sample mean is:\n",
    "\n",
    "$$\n",
    "\\bar{x} = \\sum_{i=1}^n x_i\n",
    "$$"
   ]
  },
  {
   "cell_type": "markdown",
   "id": "52553ee4-e37d-4a5f-8fb3-cb0b6034a1e3",
   "metadata": {},
   "source": [
    "## Markdown\n",
    "\n",
    "This is a markdown cell.\n",
    "\n",
    "So what?\n",
    "\n",
    "Well we can do things like **bold** or *italics*.\n",
    "\n",
    "How about ***bold and italics***\n",
    "\n",
    "### Subsection\n",
    "Now we are in a subsection.\n",
    "\n",
    "### Lists\n",
    "\n",
    "Here is stuff .\n",
    "\n",
    "\n",
    "We can do unordered lists:\n",
    "\n",
    "- first\n",
    "- second\n",
    "- third\n",
    "\n",
    "\n",
    "Or numbered lists\n",
    "\n",
    "1. first\n",
    "2. second\n",
    "2. third\n",
    "\n",
    "\n",
    "## Math\n",
    "\n",
    "The formulae for the sample mean is:\n",
    "\n",
    "$$\n",
    "\\bar{x} = 1/n \\sum_{i=1}^n x_i\n",
    "$$\n",
    "\n",
    "\n",
    "## Links\n",
    "\n",
    "The big search engine in the sky is [google](http://www.google.com)\n"
   ]
  },
  {
   "cell_type": "markdown",
   "id": "bb994b03-f3db-4588-90f2-e429d5fda823",
   "metadata": {},
   "source": [
    "## Markdown\n",
    "\n",
    "This is a markdown cell.\n",
    "\n",
    "So what?\n",
    "\n",
    "Well we can do things like **bold** or *italics*.\n",
    "\n",
    "How about ***bold and italics***\n",
    "\n",
    "### Subsection\n",
    "Now we are in a subsection.\n",
    "\n",
    "### Lists\n",
    "\n",
    "Here is stuff .\n",
    "\n",
    "\n",
    "We can do unordered lists:\n",
    "\n",
    "- first\n",
    "- second\n",
    "- third\n",
    "\n",
    "\n",
    "Or numbered lists\n",
    "\n",
    "1. first\n",
    "2. second\n",
    "2. third\n",
    "\n",
    "\n",
    "## Math\n",
    "\n"
   ]
  },
  {
   "cell_type": "code",
   "execution_count": 7,
   "id": "72128816-2e27-4382-846b-68453167f285",
   "metadata": {},
   "outputs": [
    {
     "data": {
      "text/plain": [
       "40"
      ]
     },
     "execution_count": 7,
     "metadata": {},
     "output_type": "execute_result"
    }
   ],
   "source": [
    "10 * 4"
   ]
  },
  {
   "cell_type": "code",
   "execution_count": null,
   "id": "e8c094c9-325a-47ed-aa6f-de64b3f325fa",
   "metadata": {},
   "outputs": [],
   "source": []
  }
 ],
 "metadata": {
  "kernelspec": {
   "display_name": "Python 3 (ipykernel)",
   "language": "python",
   "name": "python3"
  },
  "language_info": {
   "codemirror_mode": {
    "name": "ipython",
    "version": 3
   },
   "file_extension": ".py",
   "mimetype": "text/x-python",
   "name": "python",
   "nbconvert_exporter": "python",
   "pygments_lexer": "ipython3",
   "version": "3.9.17"
  }
 },
 "nbformat": 4,
 "nbformat_minor": 5
}
