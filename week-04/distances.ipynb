{
  "cells": [
    {
      "cell_type": "raw",
      "metadata": {},
      "source": [
        "---\n",
        "title: distances.py\n",
        "---"
      ],
      "id": "47b8103a"
    },
    {
      "cell_type": "code",
      "metadata": {},
      "source": [
        "import numpy\n",
        "\n",
        "def euclidean(pnt1, pnt2):\n",
        "    dx = pnt1[0] - pnt2[0]\n",
        "    dy = pnt1[1] - pnt2[1]\n",
        "    return (dx**2 + dy**2) ** (1 / 2)\n",
        "\n",
        "\n",
        "def manhattan(pnt1, pnt2):\n",
        "    dx = pnt1[0] - pnt2[0]\n",
        "    dy = pnt1[1] - pnt2[1]\n",
        "    adx = numpy.abs(dx)\n",
        "    ady = numpy.abs(dy)\n",
        "    return adx + ady\n",
        "\n",
        "\n",
        "def distance_composite(pnt1, pnt2, metric=\"euclidean\"):\n",
        "    if metric == \"euclidean\":\n",
        "        return euclidean(pnt1, pnt2)\n",
        "    else:\n",
        "        return manhattan(pnt1, pnt2)\n"
      ],
      "id": "5f9b9d3c",
      "execution_count": null,
      "outputs": []
    }
  ],
  "metadata": {
    "kernelspec": {
      "name": "python3",
      "language": "python",
      "display_name": "Python 3 (ipykernel)"
    }
  },
  "nbformat": 4,
  "nbformat_minor": 5
}