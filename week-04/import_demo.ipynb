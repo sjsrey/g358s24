{
 "cells": [
  {
   "cell_type": "raw",
   "id": "bef8543c-b879-4e2c-b400-24dfa686c890",
   "metadata": {},
   "source": [
    "---\n",
    "title: Importing\n",
    "format:\n",
    "  html\n",
    "---"
   ]
  },
  {
   "cell_type": "code",
   "execution_count": 1,
   "id": "75474edf-69dd-4029-8885-cb39bc05d454",
   "metadata": {},
   "outputs": [],
   "source": [
    "import distances"
   ]
  },
  {
   "cell_type": "code",
   "execution_count": 2,
   "id": "5f047f5b-21dc-417c-b4b4-663a3fda2377",
   "metadata": {},
   "outputs": [],
   "source": [
    "p1 = [0, 0]\n",
    "p2 = [5, 0]\n",
    "p3 = [5, 5]"
   ]
  },
  {
   "cell_type": "code",
   "execution_count": 4,
   "id": "8f996e42-cae8-44d4-b4e7-ca300880959f",
   "metadata": {},
   "outputs": [
    {
     "data": {
      "text/plain": [
       "5.0"
      ]
     },
     "execution_count": 4,
     "metadata": {},
     "output_type": "execute_result"
    }
   ],
   "source": [
    "distances.euclidean(p1, p2)"
   ]
  },
  {
   "cell_type": "code",
   "execution_count": 5,
   "id": "c6213f92-8c96-4764-8cbb-83cf36ff76cd",
   "metadata": {},
   "outputs": [
    {
     "data": {
      "text/plain": [
       "5"
      ]
     },
     "execution_count": 5,
     "metadata": {},
     "output_type": "execute_result"
    }
   ],
   "source": [
    "distances.manhattan(p1, p2)"
   ]
  },
  {
   "cell_type": "code",
   "execution_count": 8,
   "id": "f1b8a1ed-484c-4c7c-813f-ac8495551b93",
   "metadata": {},
   "outputs": [
    {
     "data": {
      "text/plain": [
       "5.0"
      ]
     },
     "execution_count": 8,
     "metadata": {},
     "output_type": "execute_result"
    }
   ],
   "source": [
    "distances.distance_composite(p2, p3)"
   ]
  },
  {
   "cell_type": "code",
   "execution_count": 9,
   "id": "dac05c44-6460-44fe-9f7c-c9a310a99465",
   "metadata": {},
   "outputs": [],
   "source": [
    "from distances import distance_composite"
   ]
  },
  {
   "cell_type": "code",
   "execution_count": 10,
   "id": "3b94391b-74d0-4ba5-9ad9-e71771267755",
   "metadata": {},
   "outputs": [
    {
     "data": {
      "text/plain": [
       "7.0710678118654755"
      ]
     },
     "execution_count": 10,
     "metadata": {},
     "output_type": "execute_result"
    }
   ],
   "source": [
    "distance_composite(p1, p3)"
   ]
  },
  {
   "cell_type": "code",
   "execution_count": null,
   "id": "9b4e68b6-bd21-4c66-8273-bb237aa3dfd1",
   "metadata": {},
   "outputs": [],
   "source": []
  }
 ],
 "metadata": {
  "kernelspec": {
   "display_name": "Python 3 (ipykernel)",
   "language": "python",
   "name": "python3"
  },
  "language_info": {
   "codemirror_mode": {
    "name": "ipython",
    "version": 3
   },
   "file_extension": ".py",
   "mimetype": "text/x-python",
   "name": "python",
   "nbconvert_exporter": "python",
   "pygments_lexer": "ipython3",
   "version": "3.10.10"
  }
 },
 "nbformat": 4,
 "nbformat_minor": 5
}
