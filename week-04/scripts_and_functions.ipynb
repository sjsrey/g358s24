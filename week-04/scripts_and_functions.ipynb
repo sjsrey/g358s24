{
 "cells": [
  {
   "cell_type": "raw",
   "id": "201d8bef-22d3-44c0-813b-95ebb893feb8",
   "metadata": {},
   "source": [
    "---\n",
    "title: Functions\n",
    "format:\n",
    "  html\n",
    "---"
   ]
  },
  {
   "cell_type": "markdown",
   "id": "f77be51a-bcc7-4425-a4e3-81f6fd85c144",
   "metadata": {},
   "source": [
    "\n",
    "A **function** is a body of code that does something we need done, typically repeatedly"
   ]
  },
  {
   "cell_type": "code",
   "execution_count": 1,
   "id": "b23ba921-d857-45aa-bf52-87753fdb68e5",
   "metadata": {},
   "outputs": [],
   "source": [
    "def hello():\n",
    "    print('hello world')"
   ]
  },
  {
   "cell_type": "code",
   "execution_count": 2,
   "id": "274546b0-7103-49a1-ab53-890eb65bda6f",
   "metadata": {},
   "outputs": [
    {
     "name": "stdout",
     "output_type": "stream",
     "text": [
      "hello world\n"
     ]
    }
   ],
   "source": [
    "hello()"
   ]
  },
  {
   "cell_type": "markdown",
   "id": "3d796d0b-5666-4438-8933-dc65b686b17e",
   "metadata": {},
   "source": [
    "### Arguments"
   ]
  },
  {
   "cell_type": "code",
   "execution_count": 3,
   "id": "8477e230-2e22-4b39-a9c0-f9422af3fcd7",
   "metadata": {},
   "outputs": [],
   "source": [
    "def hello(message):\n",
    "    print(message)"
   ]
  },
  {
   "cell_type": "code",
   "execution_count": 4,
   "id": "f919f36b-cc97-4325-b436-af71c5ab84c9",
   "metadata": {},
   "outputs": [
    {
     "name": "stdout",
     "output_type": "stream",
     "text": [
      "hello there world\n"
     ]
    }
   ],
   "source": [
    "hello('hello there world')"
   ]
  },
  {
   "cell_type": "code",
   "execution_count": 5,
   "id": "310477e1-6828-4e27-97e7-693ee028a057",
   "metadata": {},
   "outputs": [
    {
     "name": "stdout",
     "output_type": "stream",
     "text": [
      "serge\n"
     ]
    }
   ],
   "source": [
    "hello('serge')"
   ]
  },
  {
   "cell_type": "code",
   "execution_count": 6,
   "id": "6d2b57ad-9aac-4f38-be0e-82c57d086df5",
   "metadata": {},
   "outputs": [
    {
     "name": "stdout",
     "output_type": "stream",
     "text": [
      "serge\n"
     ]
    }
   ],
   "source": [
    "message = 'serge'\n",
    "print(message)"
   ]
  },
  {
   "cell_type": "code",
   "execution_count": 7,
   "id": "a0c891fa-d6e9-4424-9bba-32c58542083c",
   "metadata": {},
   "outputs": [
    {
     "name": "stdout",
     "output_type": "stream",
     "text": [
      "serge\n"
     ]
    }
   ],
   "source": [
    "hello('serge')"
   ]
  },
  {
   "cell_type": "code",
   "execution_count": 8,
   "id": "d925a14b-8321-4da1-a47e-8058019bcd0a",
   "metadata": {},
   "outputs": [
    {
     "name": "stdout",
     "output_type": "stream",
     "text": [
      "i am having fun\n"
     ]
    }
   ],
   "source": [
    "hello('i am having fun')"
   ]
  },
  {
   "cell_type": "markdown",
   "id": "eaa66729-f98a-4da1-9099-ae5eb8a076ad",
   "metadata": {},
   "source": [
    "## Returns"
   ]
  },
  {
   "cell_type": "code",
   "execution_count": 9,
   "id": "e8e7f259-4180-4c91-ab8e-19c16b8876a5",
   "metadata": {},
   "outputs": [],
   "source": [
    "def hello(message):\n",
    "    print(message)\n",
    "    return len(message)"
   ]
  },
  {
   "cell_type": "code",
   "execution_count": 10,
   "id": "b485867d-6c91-42cf-b269-b9cb56d59fd6",
   "metadata": {},
   "outputs": [
    {
     "name": "stdout",
     "output_type": "stream",
     "text": [
      "serge\n"
     ]
    },
    {
     "data": {
      "text/plain": [
       "5"
      ]
     },
     "execution_count": 10,
     "metadata": {},
     "output_type": "execute_result"
    }
   ],
   "source": [
    "hello('serge')"
   ]
  },
  {
   "cell_type": "code",
   "execution_count": 11,
   "id": "17cfbe5d-0199-4bec-9a6c-387827cbb4af",
   "metadata": {},
   "outputs": [
    {
     "data": {
      "text/plain": [
       "5"
      ]
     },
     "execution_count": 11,
     "metadata": {},
     "output_type": "execute_result"
    }
   ],
   "source": [
    "len('serge')"
   ]
  },
  {
   "cell_type": "code",
   "execution_count": 12,
   "id": "c083546a-d784-4700-8115-f4360badae38",
   "metadata": {},
   "outputs": [
    {
     "name": "stdout",
     "output_type": "stream",
     "text": [
      "42\n"
     ]
    },
    {
     "ename": "TypeError",
     "evalue": "object of type 'int' has no len()",
     "output_type": "error",
     "traceback": [
      "\u001b[0;31m---------------------------------------------------------------------------\u001b[0m",
      "\u001b[0;31mTypeError\u001b[0m                                 Traceback (most recent call last)",
      "Cell \u001b[0;32mIn[12], line 1\u001b[0m\n\u001b[0;32m----> 1\u001b[0m \u001b[43mhello\u001b[49m\u001b[43m(\u001b[49m\u001b[38;5;241;43m42\u001b[39;49m\u001b[43m)\u001b[49m\n",
      "Cell \u001b[0;32mIn[9], line 3\u001b[0m, in \u001b[0;36mhello\u001b[0;34m(message)\u001b[0m\n\u001b[1;32m      1\u001b[0m \u001b[38;5;28;01mdef\u001b[39;00m \u001b[38;5;21mhello\u001b[39m(message):\n\u001b[1;32m      2\u001b[0m     \u001b[38;5;28mprint\u001b[39m(message)\n\u001b[0;32m----> 3\u001b[0m     \u001b[38;5;28;01mreturn\u001b[39;00m \u001b[38;5;28;43mlen\u001b[39;49m\u001b[43m(\u001b[49m\u001b[43mmessage\u001b[49m\u001b[43m)\u001b[49m\n",
      "\u001b[0;31mTypeError\u001b[0m: object of type 'int' has no len()"
     ]
    }
   ],
   "source": [
    "hello(42)"
   ]
  },
  {
   "cell_type": "code",
   "execution_count": 13,
   "id": "83964f5d-20d3-42a9-91bd-29844c570f1f",
   "metadata": {},
   "outputs": [
    {
     "ename": "TypeError",
     "evalue": "object of type 'int' has no len()",
     "output_type": "error",
     "traceback": [
      "\u001b[0;31m---------------------------------------------------------------------------\u001b[0m",
      "\u001b[0;31mTypeError\u001b[0m                                 Traceback (most recent call last)",
      "Cell \u001b[0;32mIn[13], line 1\u001b[0m\n\u001b[0;32m----> 1\u001b[0m \u001b[38;5;28;43mlen\u001b[39;49m\u001b[43m(\u001b[49m\u001b[38;5;241;43m10\u001b[39;49m\u001b[43m)\u001b[49m\n",
      "\u001b[0;31mTypeError\u001b[0m: object of type 'int' has no len()"
     ]
    }
   ],
   "source": [
    "len(10)"
   ]
  },
  {
   "cell_type": "code",
   "execution_count": 14,
   "id": "589146eb-b318-48f8-9a10-31af903fad64",
   "metadata": {},
   "outputs": [
    {
     "name": "stdout",
     "output_type": "stream",
     "text": [
      "42\n"
     ]
    },
    {
     "data": {
      "text/plain": [
       "2"
      ]
     },
     "execution_count": 14,
     "metadata": {},
     "output_type": "execute_result"
    }
   ],
   "source": [
    "hello('42')"
   ]
  },
  {
   "cell_type": "markdown",
   "id": "4d7055ca-ceed-409c-97aa-f9683b4c9f65",
   "metadata": {},
   "source": [
    "## \"Real functions\""
   ]
  },
  {
   "attachments": {
    "b67d8194-9c81-4702-bc56-58c3a8647220.png": {
     "image/png": "[encoded data removed]"
    }
   },
   "cell_type": "markdown",
   "id": "d83fbc75-d9be-46f8-a610-e023e4d008f1",
   "metadata": {},
   "source": [
    "![image.png](attachment:b67d8194-9c81-4702-bc56-58c3a8647220.png)"
   ]
  },
  {
   "cell_type": "code",
   "execution_count": 15,
   "id": "5b98113c-94e7-4b16-b99d-c32ea81fb207",
   "metadata": {},
   "outputs": [],
   "source": [
    "p3 = [0, 0]\n",
    "p1 = [0, 5]\n",
    "p2 = [10, 0]"
   ]
  },
  {
   "cell_type": "code",
   "execution_count": 16,
   "id": "f603d03b-0ef5-43ef-affe-8a97025768f0",
   "metadata": {},
   "outputs": [
    {
     "data": {
      "text/plain": [
       "10"
      ]
     },
     "execution_count": 16,
     "metadata": {},
     "output_type": "execute_result"
    }
   ],
   "source": [
    "# distance between p1 and p2\n",
    "b = p2[0] - p3[0]\n",
    "b"
   ]
  },
  {
   "cell_type": "code",
   "execution_count": 17,
   "id": "54faee35-3ed2-4497-a359-c07066ea354e",
   "metadata": {},
   "outputs": [
    {
     "data": {
      "text/plain": [
       "5"
      ]
     },
     "execution_count": 17,
     "metadata": {},
     "output_type": "execute_result"
    }
   ],
   "source": [
    "a = p1[1] - p3[1]\n",
    "a"
   ]
  },
  {
   "cell_type": "code",
   "execution_count": 18,
   "id": "0038e6d8-6c18-4417-85a9-b78d59911c3d",
   "metadata": {},
   "outputs": [],
   "source": [
    "# c = sqrt(a**2 + b**2)"
   ]
  },
  {
   "cell_type": "code",
   "execution_count": 19,
   "id": "8eaa6467-8679-4538-9986-1842b6c48304",
   "metadata": {},
   "outputs": [
    {
     "data": {
      "text/plain": [
       "25"
      ]
     },
     "execution_count": 19,
     "metadata": {},
     "output_type": "execute_result"
    }
   ],
   "source": [
    "a**2"
   ]
  },
  {
   "cell_type": "code",
   "execution_count": 20,
   "id": "25e0a725-03fe-4b89-b1e9-cdb4171d7909",
   "metadata": {},
   "outputs": [
    {
     "data": {
      "text/plain": [
       "100"
      ]
     },
     "execution_count": 20,
     "metadata": {},
     "output_type": "execute_result"
    }
   ],
   "source": [
    "b**2"
   ]
  },
  {
   "cell_type": "code",
   "execution_count": 21,
   "id": "a75cd0c3-1cd1-4062-8c79-4cb2f814de2d",
   "metadata": {},
   "outputs": [
    {
     "data": {
      "text/plain": [
       "125"
      ]
     },
     "execution_count": 21,
     "metadata": {},
     "output_type": "execute_result"
    }
   ],
   "source": [
    "(a**2 + b**2)"
   ]
  },
  {
   "cell_type": "code",
   "execution_count": 22,
   "id": "946131bd-7d41-4e08-8488-52bec337bb0f",
   "metadata": {},
   "outputs": [
    {
     "data": {
      "text/plain": [
       "11.180339887498949"
      ]
     },
     "execution_count": 22,
     "metadata": {},
     "output_type": "execute_result"
    }
   ],
   "source": [
    "(a**2 + b**2)**(1/2)"
   ]
  },
  {
   "cell_type": "code",
   "execution_count": 23,
   "id": "0364cf7f-2af9-4346-8473-61fbece95b74",
   "metadata": {},
   "outputs": [],
   "source": [
    "def distance(pnt1, pnt2):\n",
    "    dx = pnt1[0] - pnt2[0]\n",
    "    dy = pnt1[1] - pnt2[1]\n",
    "    return (dx**2 + dy**2)**(1/2)"
   ]
  },
  {
   "cell_type": "code",
   "execution_count": 24,
   "id": "13218206-2cb9-42f1-b298-ad85e33943c2",
   "metadata": {},
   "outputs": [],
   "source": [
    "p3 = [0, 0]\n",
    "p1 = [0, 5]\n",
    "p2 = [10, 0]"
   ]
  },
  {
   "cell_type": "code",
   "execution_count": 25,
   "id": "7c76a0b4-165a-4d1b-8be9-c59767e2c1d4",
   "metadata": {},
   "outputs": [
    {
     "data": {
      "text/plain": [
       "5.0"
      ]
     },
     "execution_count": 25,
     "metadata": {},
     "output_type": "execute_result"
    }
   ],
   "source": [
    "distance(p1, p3)"
   ]
  },
  {
   "cell_type": "code",
   "execution_count": 26,
   "id": "ce1af9e0-62fb-4f27-9b82-f37a6bacdb73",
   "metadata": {},
   "outputs": [
    {
     "data": {
      "text/plain": [
       "10.0"
      ]
     },
     "execution_count": 26,
     "metadata": {},
     "output_type": "execute_result"
    }
   ],
   "source": [
    "distance(p2, p3)"
   ]
  },
  {
   "cell_type": "code",
   "execution_count": 27,
   "id": "28018198-8eeb-4e5e-93fd-bc9bb1824198",
   "metadata": {},
   "outputs": [
    {
     "data": {
      "text/plain": [
       "11.180339887498949"
      ]
     },
     "execution_count": 27,
     "metadata": {},
     "output_type": "execute_result"
    }
   ],
   "source": [
    "distance(p2, p1)"
   ]
  },
  {
   "cell_type": "code",
   "execution_count": 28,
   "id": "5dac4f96-f38a-4582-98e5-0fd7a7d8349f",
   "metadata": {},
   "outputs": [
    {
     "data": {
      "text/plain": [
       "0.0"
      ]
     },
     "execution_count": 28,
     "metadata": {},
     "output_type": "execute_result"
    }
   ],
   "source": [
    "distance(p1, p1)"
   ]
  },
  {
   "attachments": {
    "4a63bbf1-35eb-4fd0-b287-1fb265085392.png": {
     "image/png": "[encoded data removed]"
    }
   },
   "cell_type": "markdown",
   "id": "219e0964-3a85-492f-9442-c13be0b8070d",
   "metadata": {},
   "source": [
    "![image.png](attachment:4a63bbf1-35eb-4fd0-b287-1fb265085392.png)"
   ]
  },
  {
   "cell_type": "code",
   "execution_count": 29,
   "id": "0f1ec7c3-a8fa-4d97-be31-1b4ebc1a4421",
   "metadata": {},
   "outputs": [],
   "source": [
    "import numpy\n",
    "def manhattan(pnt1, pnt2):\n",
    "    dx = pnt1[0] - pnt2[0]\n",
    "    dy = pnt1[1] - pnt2[1]\n",
    "    adx = numpy.abs(dx)\n",
    "    ady = numpy.abs(dy)\n",
    "    return adx + ady\n",
    "    "
   ]
  },
  {
   "cell_type": "code",
   "execution_count": 30,
   "id": "1b3f625f-b258-459e-b9c3-a4f4e2b8b48c",
   "metadata": {},
   "outputs": [],
   "source": [
    "p3 = [0, 0]\n",
    "p1 = [0, 5]\n",
    "p2 = [10, 0]"
   ]
  },
  {
   "cell_type": "code",
   "execution_count": 31,
   "id": "1fb51e28-669d-46b8-abb4-d7a1462184d0",
   "metadata": {},
   "outputs": [
    {
     "data": {
      "text/plain": [
       "10"
      ]
     },
     "execution_count": 31,
     "metadata": {},
     "output_type": "execute_result"
    }
   ],
   "source": [
    "manhattan(p3, p2)"
   ]
  },
  {
   "cell_type": "code",
   "execution_count": 32,
   "id": "fd63c324-f351-4cec-a7ab-e37d1f5e5ad7",
   "metadata": {},
   "outputs": [
    {
     "data": {
      "text/plain": [
       "5"
      ]
     },
     "execution_count": 32,
     "metadata": {},
     "output_type": "execute_result"
    }
   ],
   "source": [
    "manhattan(p3, p1)"
   ]
  },
  {
   "cell_type": "code",
   "execution_count": 33,
   "id": "0e08e57e-77eb-47d0-8a59-9ed4c3915e83",
   "metadata": {},
   "outputs": [
    {
     "data": {
      "text/plain": [
       "15"
      ]
     },
     "execution_count": 33,
     "metadata": {},
     "output_type": "execute_result"
    }
   ],
   "source": [
    "manhattan(p2, p1)"
   ]
  },
  {
   "cell_type": "code",
   "execution_count": 34,
   "id": "35f24e1b-0b5d-4fb8-9be7-3297ad38c2c5",
   "metadata": {},
   "outputs": [
    {
     "data": {
      "text/plain": [
       "11.180339887498949"
      ]
     },
     "execution_count": 34,
     "metadata": {},
     "output_type": "execute_result"
    }
   ],
   "source": [
    "distance(p2, p1)"
   ]
  },
  {
   "cell_type": "code",
   "execution_count": 35,
   "id": "b3a741d5-3fa5-4224-8298-0cedd6c720c6",
   "metadata": {},
   "outputs": [],
   "source": [
    "def euclidean(pnt1, pnt2):\n",
    "    dx = pnt1[0] - pnt2[0]\n",
    "    dy = pnt1[1] - pnt2[1]\n",
    "    return (dx**2 + dy**2)**(1/2)"
   ]
  },
  {
   "cell_type": "code",
   "execution_count": 29,
   "id": "e317a724-1716-496d-a89e-467f8bdb03b0",
   "metadata": {},
   "outputs": [],
   "source": [
    "import numpy\n",
    "def manhattan(pnt1, pnt2):\n",
    "    dx = pnt1[0] - pnt2[0]\n",
    "    dy = pnt1[1] - pnt2[1]\n",
    "    adx = numpy.abs(dx)\n",
    "    ady = numpy.abs(dy)\n",
    "    return adx + ady\n",
    "    "
   ]
  },
  {
   "cell_type": "code",
   "execution_count": 36,
   "id": "64021a75-9695-4cf1-8cea-200420573e3e",
   "metadata": {},
   "outputs": [
    {
     "data": {
      "text/plain": [
       "11.180339887498949"
      ]
     },
     "execution_count": 36,
     "metadata": {},
     "output_type": "execute_result"
    }
   ],
   "source": [
    "euclidean(p2, p1)"
   ]
  },
  {
   "cell_type": "code",
   "execution_count": 37,
   "id": "2454ce13-70c1-486d-9d5e-668172e28df8",
   "metadata": {},
   "outputs": [
    {
     "data": {
      "text/plain": [
       "15"
      ]
     },
     "execution_count": 37,
     "metadata": {},
     "output_type": "execute_result"
    }
   ],
   "source": [
    "manhattan(p2, p1)"
   ]
  },
  {
   "cell_type": "code",
   "execution_count": 38,
   "id": "2f1db8b7-5d31-42fd-94aa-74d4fd6b04cd",
   "metadata": {},
   "outputs": [
    {
     "data": {
      "text/plain": [
       "15"
      ]
     },
     "execution_count": 38,
     "metadata": {},
     "output_type": "execute_result"
    }
   ],
   "source": [
    "manhattan(p1, p2)"
   ]
  },
  {
   "cell_type": "code",
   "execution_count": 39,
   "id": "17c7cf8b-11f3-42c5-9a7a-378f170593b5",
   "metadata": {},
   "outputs": [
    {
     "data": {
      "text/plain": [
       "11.180339887498949"
      ]
     },
     "execution_count": 39,
     "metadata": {},
     "output_type": "execute_result"
    }
   ],
   "source": [
    "euclidean(p1, p2)"
   ]
  },
  {
   "cell_type": "markdown",
   "id": "e93bc932-ec4d-4465-a394-3b8d6fe8d3d5",
   "metadata": {},
   "source": [
    "### Composition"
   ]
  },
  {
   "cell_type": "code",
   "execution_count": 40,
   "id": "22eaf223-db8e-4f10-8fdc-8ce82c606dde",
   "metadata": {},
   "outputs": [],
   "source": [
    "def distance_composite(pnt1, pnt2, metric='euclidean'):\n",
    "    if metric == 'euclidean':\n",
    "        return euclidean(pnt1, pnt2)\n",
    "    else:\n",
    "        return manhattan(pnt1, pnt2)"
   ]
  },
  {
   "cell_type": "code",
   "execution_count": 41,
   "id": "c048d162-1277-4153-8839-c80f38500270",
   "metadata": {},
   "outputs": [
    {
     "data": {
      "text/plain": [
       "11.180339887498949"
      ]
     },
     "execution_count": 41,
     "metadata": {},
     "output_type": "execute_result"
    }
   ],
   "source": [
    "distance_composite(p1, p2, metric='euclidean')"
   ]
  },
  {
   "cell_type": "code",
   "execution_count": 42,
   "id": "86f1703c-badf-436d-a768-e04c6dff3bfc",
   "metadata": {},
   "outputs": [
    {
     "data": {
      "text/plain": [
       "15"
      ]
     },
     "execution_count": 42,
     "metadata": {},
     "output_type": "execute_result"
    }
   ],
   "source": [
    "distance_composite(p1, p2, metric='manhattan')"
   ]
  },
  {
   "cell_type": "markdown",
   "id": "0f83f1f9-f370-42b7-b4b3-ce8667c51cf6",
   "metadata": {},
   "source": [
    "### All-in-one function"
   ]
  },
  {
   "cell_type": "code",
   "execution_count": 43,
   "id": "1b9b4b74-ba2e-42dd-a358-b3447a281189",
   "metadata": {},
   "outputs": [],
   "source": [
    "def distance(pnt1, pnt2, metric='euclidean'):\n",
    "    dx = pnt1[0] - pnt2[0]\n",
    "    dy = pnt1[1] - pnt2[1]\n",
    "    if metric == 'euclidean':\n",
    "        return (dx**2 + dy**2)**(1/2)\n",
    "    else:\n",
    "        adx = numpy.abs(dx)\n",
    "        ady = numpy.abs(dy)\n",
    "        return adx + ady\n",
    "        "
   ]
  },
  {
   "cell_type": "code",
   "execution_count": 44,
   "id": "05654214-5778-4db1-b0dc-ae31c3da469e",
   "metadata": {},
   "outputs": [
    {
     "data": {
      "text/plain": [
       "15"
      ]
     },
     "execution_count": 44,
     "metadata": {},
     "output_type": "execute_result"
    }
   ],
   "source": [
    "distance(p1, p2, metric='manhattan')"
   ]
  },
  {
   "cell_type": "code",
   "execution_count": 45,
   "id": "740a9efd-5fc5-44bd-a7d9-303eee50076a",
   "metadata": {},
   "outputs": [
    {
     "data": {
      "text/plain": [
       "11.180339887498949"
      ]
     },
     "execution_count": 45,
     "metadata": {},
     "output_type": "execute_result"
    }
   ],
   "source": [
    "distance(p1, p2, metric='euclidean')"
   ]
  },
  {
   "cell_type": "code",
   "execution_count": 46,
   "id": "b7f69946-33c8-4600-a8b6-0b8859c5accd",
   "metadata": {},
   "outputs": [
    {
     "data": {
      "text/plain": [
       "11.180339887498949"
      ]
     },
     "execution_count": 46,
     "metadata": {},
     "output_type": "execute_result"
    }
   ],
   "source": [
    "distance(p1, p2)"
   ]
  },
  {
   "cell_type": "code",
   "execution_count": null,
   "id": "938472d8-19ef-4187-82b9-5a1c1f2f9de7",
   "metadata": {},
   "outputs": [],
   "source": []
  }
 ],
 "metadata": {
  "kernelspec": {
   "display_name": "Python 3 (ipykernel)",
   "language": "python",
   "name": "python3"
  },
  "language_info": {
   "codemirror_mode": {
    "name": "ipython",
    "version": 3
   },
   "file_extension": ".py",
   "mimetype": "text/x-python",
   "name": "python",
   "nbconvert_exporter": "python",
   "pygments_lexer": "ipython3",
   "version": "3.10.10"
  }
 },
 "nbformat": 4,
 "nbformat_minor": 5
}
