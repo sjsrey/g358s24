{
 "cells": [
  {
   "cell_type": "markdown",
   "id": "b2e9c507-1130-4b2b-9888-3a5b9881ffd6",
   "metadata": {},
   "source": [
    "# Introduction to Python"
   ]
  },
  {
   "cell_type": "markdown",
   "id": "d21315ff-ae2f-4970-94fc-6ee9e1ed3dc1",
   "metadata": {},
   "source": [
    "## Why Python?\n",
    "\n",
    "- its \"free\" (as in beer and as in speech)\n",
    "- widely used (QGIS, ArcGIS)\n",
    "- approachable\n",
    "- fun"
   ]
  },
  {
   "cell_type": "markdown",
   "id": "46ecd4f3-3f17-4b88-b620-c4d9ae256cb0",
   "metadata": {},
   "source": [
    "## What is a program?"
   ]
  },
  {
   "cell_type": "markdown",
   "id": "ea5c5ab1-4928-4f6f-83cf-58cb223fa413",
   "metadata": {},
   "source": [
    "- input (keyboard, file, network, sensor)\n",
    "- output: display data on screen, write to a file, ship over network\n",
    "- math: basic mathematical operations (add, subtract, multiply, divide)\n",
    "- conditional execution: if something is true do something else\n",
    "- repetition: Perform some action repeatedly"
   ]
  },
  {
   "cell_type": "code",
   "execution_count": 1,
   "id": "27e5e850-18c2-4d6e-94ff-593eea1db9f9",
   "metadata": {},
   "outputs": [
    {
     "data": {
      "text/plain": [
       "2"
      ]
     },
     "execution_count": 1,
     "metadata": {},
     "output_type": "execute_result"
    }
   ],
   "source": [
    "1 + 1"
   ]
  },
  {
   "cell_type": "code",
   "execution_count": 3,
   "id": "b1a8860e-c7cf-4f0c-bf33-480920b93926",
   "metadata": {},
   "outputs": [],
   "source": [
    "x = 1 + 1"
   ]
  },
  {
   "cell_type": "markdown",
   "id": "35908246-c1a6-4a78-9064-ce93c72f2376",
   "metadata": {},
   "source": [
    "## Operators"
   ]
  },
  {
   "cell_type": "code",
   "execution_count": 4,
   "id": "6f8d7f40-07d9-4648-b6ae-262b74255fe6",
   "metadata": {},
   "outputs": [
    {
     "data": {
      "text/plain": [
       "42"
      ]
     },
     "execution_count": 4,
     "metadata": {},
     "output_type": "execute_result"
    }
   ],
   "source": [
    "40 + 2"
   ]
  },
  {
   "cell_type": "code",
   "execution_count": 5,
   "id": "e47ad5d5-3040-496c-9254-0cc8506a891d",
   "metadata": {},
   "outputs": [
    {
     "data": {
      "text/plain": [
       "80"
      ]
     },
     "execution_count": 5,
     "metadata": {},
     "output_type": "execute_result"
    }
   ],
   "source": [
    "40 * 2"
   ]
  },
  {
   "cell_type": "code",
   "execution_count": 6,
   "id": "caa46729-1f7d-4856-a811-93fdeb85be6c",
   "metadata": {},
   "outputs": [
    {
     "data": {
      "text/plain": [
       "20.0"
      ]
     },
     "execution_count": 6,
     "metadata": {},
     "output_type": "execute_result"
    }
   ],
   "source": [
    "40 / 2"
   ]
  },
  {
   "cell_type": "code",
   "execution_count": 7,
   "id": "47480abe-66b0-4c6d-8a23-fa857b064ff8",
   "metadata": {},
   "outputs": [
    {
     "data": {
      "text/plain": [
       "1600"
      ]
     },
     "execution_count": 7,
     "metadata": {},
     "output_type": "execute_result"
    }
   ],
   "source": [
    "40 ** 2"
   ]
  },
  {
   "cell_type": "code",
   "execution_count": 8,
   "id": "e587fa42-9a65-4b9a-bae0-8501a4d39815",
   "metadata": {},
   "outputs": [
    {
     "data": {
      "text/plain": [
       "64000"
      ]
     },
     "execution_count": 8,
     "metadata": {},
     "output_type": "execute_result"
    }
   ],
   "source": [
    "40**3"
   ]
  },
  {
   "cell_type": "markdown",
   "id": "b268e00f-3c79-450c-a314-a9eca0c27fcc",
   "metadata": {},
   "source": [
    "## Values\n",
    "What the program works with"
   ]
  },
  {
   "cell_type": "code",
   "execution_count": 9,
   "id": "4d85ef67-3168-4cac-a322-7bc8267c23a5",
   "metadata": {},
   "outputs": [
    {
     "data": {
      "text/plain": [
       "2"
      ]
     },
     "execution_count": 9,
     "metadata": {},
     "output_type": "execute_result"
    }
   ],
   "source": [
    "2"
   ]
  },
  {
   "cell_type": "code",
   "execution_count": 10,
   "id": "e7f40d80-ae81-464e-9805-2ac0c8c23cfb",
   "metadata": {},
   "outputs": [
    {
     "data": {
      "text/plain": [
       "int"
      ]
     },
     "execution_count": 10,
     "metadata": {},
     "output_type": "execute_result"
    }
   ],
   "source": [
    "type(2)"
   ]
  },
  {
   "cell_type": "code",
   "execution_count": 11,
   "id": "e78cff9b-1b49-4454-a099-82b54a093413",
   "metadata": {},
   "outputs": [
    {
     "data": {
      "text/plain": [
       "str"
      ]
     },
     "execution_count": 11,
     "metadata": {},
     "output_type": "execute_result"
    }
   ],
   "source": [
    "type('42')"
   ]
  },
  {
   "cell_type": "code",
   "execution_count": 12,
   "id": "31bb4688-e566-4b32-b5cb-7ee20dc0b2f6",
   "metadata": {},
   "outputs": [
    {
     "data": {
      "text/plain": [
       "'42'"
      ]
     },
     "execution_count": 12,
     "metadata": {},
     "output_type": "execute_result"
    }
   ],
   "source": [
    "'42'"
   ]
  },
  {
   "cell_type": "code",
   "execution_count": 13,
   "id": "a1bba383-06c5-4628-a9ee-5fa846c4a22a",
   "metadata": {},
   "outputs": [
    {
     "data": {
      "text/plain": [
       "6"
      ]
     },
     "execution_count": 13,
     "metadata": {},
     "output_type": "execute_result"
    }
   ],
   "source": [
    "2 * 3"
   ]
  },
  {
   "cell_type": "code",
   "execution_count": 14,
   "id": "f3544375-786c-4b04-bc73-e177ddf74c27",
   "metadata": {},
   "outputs": [
    {
     "data": {
      "text/plain": [
       "'my name is sergemy name is serge'"
      ]
     },
     "execution_count": 14,
     "metadata": {},
     "output_type": "execute_result"
    }
   ],
   "source": [
    "2 * 'my name is serge'"
   ]
  },
  {
   "cell_type": "code",
   "execution_count": 15,
   "id": "7561d679-08cb-4d7c-a190-45a0f1667131",
   "metadata": {},
   "outputs": [],
   "source": [
    "name = 'serge'"
   ]
  },
  {
   "cell_type": "code",
   "execution_count": 16,
   "id": "dab8c166-f1c5-4bf4-8859-0269da59df10",
   "metadata": {},
   "outputs": [
    {
     "data": {
      "text/plain": [
       "'serge'"
      ]
     },
     "execution_count": 16,
     "metadata": {},
     "output_type": "execute_result"
    }
   ],
   "source": [
    "name"
   ]
  },
  {
   "cell_type": "code",
   "execution_count": 17,
   "id": "2e847936-8ab0-49f9-8739-efd870da4032",
   "metadata": {},
   "outputs": [
    {
     "data": {
      "text/plain": [
       "str"
      ]
     },
     "execution_count": 17,
     "metadata": {},
     "output_type": "execute_result"
    }
   ],
   "source": [
    "type(name)"
   ]
  },
  {
   "cell_type": "code",
   "execution_count": 18,
   "id": "f8fa145c-ffa2-4fbd-a8ff-3fbce8c7bf62",
   "metadata": {},
   "outputs": [],
   "source": [
    "name = 10"
   ]
  },
  {
   "cell_type": "code",
   "execution_count": 19,
   "id": "8ddd74da-25bf-41f1-a80a-b1101e670feb",
   "metadata": {},
   "outputs": [
    {
     "data": {
      "text/plain": [
       "10"
      ]
     },
     "execution_count": 19,
     "metadata": {},
     "output_type": "execute_result"
    }
   ],
   "source": [
    "name"
   ]
  },
  {
   "cell_type": "code",
   "execution_count": 20,
   "id": "401704fa-ba89-43dd-b46b-8799b99a3dfd",
   "metadata": {},
   "outputs": [],
   "source": [
    "x = 10**2 + 50"
   ]
  },
  {
   "cell_type": "code",
   "execution_count": 21,
   "id": "c7b7d5c9-db8c-4108-a6d7-512f0f7ac39a",
   "metadata": {},
   "outputs": [
    {
     "data": {
      "text/plain": [
       "150"
      ]
     },
     "execution_count": 21,
     "metadata": {},
     "output_type": "execute_result"
    }
   ],
   "source": [
    "x"
   ]
  },
  {
   "cell_type": "code",
   "execution_count": 22,
   "id": "04012bad-d59b-40ed-af36-ce484b48b4da",
   "metadata": {},
   "outputs": [],
   "source": [
    "x = 10**(2 + 50)"
   ]
  },
  {
   "cell_type": "code",
   "execution_count": 23,
   "id": "1bc8db39-0c6a-4cb5-af32-b52eac39476f",
   "metadata": {},
   "outputs": [
    {
     "data": {
      "text/plain": [
       "10000000000000000000000000000000000000000000000000000"
      ]
     },
     "execution_count": 23,
     "metadata": {},
     "output_type": "execute_result"
    }
   ],
   "source": [
    "x"
   ]
  },
  {
   "cell_type": "code",
   "execution_count": 24,
   "id": "ea073538-840b-4f21-9d7f-31c9afd22172",
   "metadata": {},
   "outputs": [
    {
     "data": {
      "text/plain": [
       "float"
      ]
     },
     "execution_count": 24,
     "metadata": {},
     "output_type": "execute_result"
    }
   ],
   "source": [
    "f = 3.14\n",
    "type(f)"
   ]
  },
  {
   "cell_type": "code",
   "execution_count": 25,
   "id": "e63fde98-c4d2-4016-b676-cafdcad3b73e",
   "metadata": {},
   "outputs": [
    {
     "name": "stdout",
     "output_type": "stream",
     "text": [
      "hi world\n"
     ]
    }
   ],
   "source": [
    "print('hi world')"
   ]
  },
  {
   "cell_type": "code",
   "execution_count": 28,
   "id": "a34e1bb6-3fc1-452c-b56a-2d318f42ed2d",
   "metadata": {},
   "outputs": [],
   "source": [
    "tempF = 9 / 5 * 40 + 32"
   ]
  },
  {
   "cell_type": "code",
   "execution_count": 29,
   "id": "4ae9a2e2-28f3-4aba-bcde-d2d92b03f9be",
   "metadata": {},
   "outputs": [
    {
     "data": {
      "text/plain": [
       "104.0"
      ]
     },
     "execution_count": 29,
     "metadata": {},
     "output_type": "execute_result"
    }
   ],
   "source": [
    "tempF"
   ]
  },
  {
   "cell_type": "code",
   "execution_count": 30,
   "id": "387b32c0-6f18-4233-8ee6-4439993aa2e0",
   "metadata": {},
   "outputs": [],
   "source": [
    "def tempF(c):\n",
    "    return 9/5 * c + 32"
   ]
  },
  {
   "cell_type": "code",
   "execution_count": 31,
   "id": "3d82ade5-91fc-4f8f-bc91-739d480776f9",
   "metadata": {},
   "outputs": [
    {
     "data": {
      "text/plain": [
       "89.6"
      ]
     },
     "execution_count": 31,
     "metadata": {},
     "output_type": "execute_result"
    }
   ],
   "source": [
    "tempF(32)"
   ]
  },
  {
   "cell_type": "markdown",
   "id": "27ebd50d-7c30-4a7a-b443-122971798d21",
   "metadata": {},
   "source": [
    "## Data Types\n",
    "\n",
    "- int: 7\n",
    "- float: 7.23\n",
    "- str: '7.23'\n",
    "- bool: True/False"
   ]
  },
  {
   "cell_type": "code",
   "execution_count": 32,
   "id": "28d62f2a-941a-4cf2-a0e6-d4a0e6d7c05a",
   "metadata": {},
   "outputs": [
    {
     "data": {
      "text/plain": [
       "False"
      ]
     },
     "execution_count": 32,
     "metadata": {},
     "output_type": "execute_result"
    }
   ],
   "source": [
    "x = 5 > 7\n",
    "x"
   ]
  },
  {
   "cell_type": "code",
   "execution_count": 33,
   "id": "c5acdbe3-39bd-47a0-a3d5-e7c4ac2503d2",
   "metadata": {},
   "outputs": [
    {
     "data": {
      "text/plain": [
       "bool"
      ]
     },
     "execution_count": 33,
     "metadata": {},
     "output_type": "execute_result"
    }
   ],
   "source": [
    "type(x)"
   ]
  },
  {
   "cell_type": "code",
   "execution_count": 34,
   "id": "20ba2cc2-54cd-47e4-b874-ccb25459ad4f",
   "metadata": {},
   "outputs": [],
   "source": [
    "y = 10"
   ]
  },
  {
   "cell_type": "code",
   "execution_count": 35,
   "id": "ebe3480a-d3a1-4bc4-8607-10be59683dd3",
   "metadata": {},
   "outputs": [
    {
     "data": {
      "text/plain": [
       "10"
      ]
     },
     "execution_count": 35,
     "metadata": {},
     "output_type": "execute_result"
    }
   ],
   "source": [
    "y"
   ]
  },
  {
   "cell_type": "code",
   "execution_count": 36,
   "id": "efec7c30-7f85-4a9b-9fc0-104cb1b849ff",
   "metadata": {},
   "outputs": [
    {
     "data": {
      "text/plain": [
       "0"
      ]
     },
     "execution_count": 36,
     "metadata": {},
     "output_type": "execute_result"
    }
   ],
   "source": [
    "x * y"
   ]
  },
  {
   "cell_type": "code",
   "execution_count": 37,
   "id": "2aa54553-3ad9-414e-88bc-c1f425852650",
   "metadata": {},
   "outputs": [],
   "source": [
    "z = 10 > 1"
   ]
  },
  {
   "cell_type": "code",
   "execution_count": 38,
   "id": "fab63ba6-7414-4947-a4e3-f565524e0001",
   "metadata": {},
   "outputs": [
    {
     "data": {
      "text/plain": [
       "True"
      ]
     },
     "execution_count": 38,
     "metadata": {},
     "output_type": "execute_result"
    }
   ],
   "source": [
    "z"
   ]
  },
  {
   "cell_type": "code",
   "execution_count": 39,
   "id": "2eacc171-d49f-4e5c-8cf4-39b2e1e91de7",
   "metadata": {},
   "outputs": [
    {
     "data": {
      "text/plain": [
       "10"
      ]
     },
     "execution_count": 39,
     "metadata": {},
     "output_type": "execute_result"
    }
   ],
   "source": [
    "z * y"
   ]
  },
  {
   "cell_type": "markdown",
   "id": "50adca19-f525-4778-a05a-d70fd28cca5e",
   "metadata": {},
   "source": [
    "## Strings (str)"
   ]
  },
  {
   "cell_type": "code",
   "execution_count": 40,
   "id": "a914b15c-d5a4-4a0e-80e5-57c1b3e2c8fe",
   "metadata": {},
   "outputs": [],
   "source": [
    "x = 'Today is my birthday'"
   ]
  },
  {
   "cell_type": "code",
   "execution_count": 41,
   "id": "8a81ebae-3654-448d-9a87-70870d78416f",
   "metadata": {},
   "outputs": [
    {
     "data": {
      "text/plain": [
       "'Today is my birthday'"
      ]
     },
     "execution_count": 41,
     "metadata": {},
     "output_type": "execute_result"
    }
   ],
   "source": [
    "x"
   ]
  },
  {
   "cell_type": "code",
   "execution_count": 42,
   "id": "661421b2-93f6-4025-86c5-afa34b9e8c65",
   "metadata": {},
   "outputs": [
    {
     "data": {
      "text/plain": [
       "str"
      ]
     },
     "execution_count": 42,
     "metadata": {},
     "output_type": "execute_result"
    }
   ],
   "source": [
    "type(x)"
   ]
  },
  {
   "cell_type": "code",
   "execution_count": 43,
   "id": "d2ee0ee2-d84e-4846-ba4b-180e8d75d668",
   "metadata": {},
   "outputs": [
    {
     "data": {
      "text/plain": [
       "20"
      ]
     },
     "execution_count": 43,
     "metadata": {},
     "output_type": "execute_result"
    }
   ],
   "source": [
    "len(x)"
   ]
  },
  {
   "cell_type": "code",
   "execution_count": 44,
   "id": "9309cf76-f8c3-498b-abd9-972a21a22edd",
   "metadata": {},
   "outputs": [
    {
     "data": {
      "text/plain": [
       "'today is my birthday'"
      ]
     },
     "execution_count": 44,
     "metadata": {},
     "output_type": "execute_result"
    }
   ],
   "source": [
    "x.lower()"
   ]
  },
  {
   "cell_type": "code",
   "execution_count": 45,
   "id": "a82334bd-c22e-49d7-9363-6f763fa310df",
   "metadata": {},
   "outputs": [
    {
     "data": {
      "text/plain": [
       "'TODAY IS MY BIRTHDAY'"
      ]
     },
     "execution_count": 45,
     "metadata": {},
     "output_type": "execute_result"
    }
   ],
   "source": [
    "x.upper()"
   ]
  },
  {
   "cell_type": "code",
   "execution_count": 46,
   "id": "3b88d16c-cc91-42f1-9cb2-6f11725e9f70",
   "metadata": {},
   "outputs": [
    {
     "data": {
      "text/plain": [
       "'Today Is My Birthday'"
      ]
     },
     "execution_count": 46,
     "metadata": {},
     "output_type": "execute_result"
    }
   ],
   "source": [
    "x.title()"
   ]
  },
  {
   "cell_type": "code",
   "execution_count": 47,
   "id": "179cfd80-ad86-4148-98ea-27d32e147459",
   "metadata": {},
   "outputs": [
    {
     "data": {
      "text/plain": [
       "'               Today is my birthday               '"
      ]
     },
     "execution_count": 47,
     "metadata": {},
     "output_type": "execute_result"
    }
   ],
   "source": [
    "x.center(50)"
   ]
  },
  {
   "cell_type": "code",
   "execution_count": 48,
   "id": "792ba224-f760-4cf6-9925-8dfb4c499e06",
   "metadata": {},
   "outputs": [
    {
     "data": {
      "text/plain": [
       "'                                        Today Is My Birthday                                        '"
      ]
     },
     "execution_count": 48,
     "metadata": {},
     "output_type": "execute_result"
    }
   ],
   "source": [
    "x.title().center(100)"
   ]
  },
  {
   "cell_type": "code",
   "execution_count": 49,
   "id": "47dad78e-131d-4f3c-9335-75662100ca2f",
   "metadata": {},
   "outputs": [
    {
     "data": {
      "text/plain": [
       "['__add__',\n",
       " '__class__',\n",
       " '__contains__',\n",
       " '__delattr__',\n",
       " '__dir__',\n",
       " '__doc__',\n",
       " '__eq__',\n",
       " '__format__',\n",
       " '__ge__',\n",
       " '__getattribute__',\n",
       " '__getitem__',\n",
       " '__getnewargs__',\n",
       " '__gt__',\n",
       " '__hash__',\n",
       " '__init__',\n",
       " '__init_subclass__',\n",
       " '__iter__',\n",
       " '__le__',\n",
       " '__len__',\n",
       " '__lt__',\n",
       " '__mod__',\n",
       " '__mul__',\n",
       " '__ne__',\n",
       " '__new__',\n",
       " '__reduce__',\n",
       " '__reduce_ex__',\n",
       " '__repr__',\n",
       " '__rmod__',\n",
       " '__rmul__',\n",
       " '__setattr__',\n",
       " '__sizeof__',\n",
       " '__str__',\n",
       " '__subclasshook__',\n",
       " 'capitalize',\n",
       " 'casefold',\n",
       " 'center',\n",
       " 'count',\n",
       " 'encode',\n",
       " 'endswith',\n",
       " 'expandtabs',\n",
       " 'find',\n",
       " 'format',\n",
       " 'format_map',\n",
       " 'index',\n",
       " 'isalnum',\n",
       " 'isalpha',\n",
       " 'isascii',\n",
       " 'isdecimal',\n",
       " 'isdigit',\n",
       " 'isidentifier',\n",
       " 'islower',\n",
       " 'isnumeric',\n",
       " 'isprintable',\n",
       " 'isspace',\n",
       " 'istitle',\n",
       " 'isupper',\n",
       " 'join',\n",
       " 'ljust',\n",
       " 'lower',\n",
       " 'lstrip',\n",
       " 'maketrans',\n",
       " 'partition',\n",
       " 'removeprefix',\n",
       " 'removesuffix',\n",
       " 'replace',\n",
       " 'rfind',\n",
       " 'rindex',\n",
       " 'rjust',\n",
       " 'rpartition',\n",
       " 'rsplit',\n",
       " 'rstrip',\n",
       " 'split',\n",
       " 'splitlines',\n",
       " 'startswith',\n",
       " 'strip',\n",
       " 'swapcase',\n",
       " 'title',\n",
       " 'translate',\n",
       " 'upper',\n",
       " 'zfill']"
      ]
     },
     "execution_count": 49,
     "metadata": {},
     "output_type": "execute_result"
    }
   ],
   "source": [
    "dir(x)"
   ]
  },
  {
   "cell_type": "code",
   "execution_count": 50,
   "id": "aea96047-f999-4d99-97e2-59b9c20979a3",
   "metadata": {},
   "outputs": [
    {
     "data": {
      "text/plain": [
       "'Today is my birthday'"
      ]
     },
     "execution_count": 50,
     "metadata": {},
     "output_type": "execute_result"
    }
   ],
   "source": [
    "x"
   ]
  },
  {
   "cell_type": "code",
   "execution_count": 51,
   "id": "9078c49f-29ac-4b6f-b3bb-2059c0d0d81f",
   "metadata": {},
   "outputs": [
    {
     "data": {
      "text/plain": [
       "'0000000000Today is my birthday'"
      ]
     },
     "execution_count": 51,
     "metadata": {},
     "output_type": "execute_result"
    }
   ],
   "source": [
    "x.zfill(30)"
   ]
  },
  {
   "cell_type": "code",
   "execution_count": 52,
   "id": "729160fc-7d53-447d-96a0-f0c6d5b2e73a",
   "metadata": {},
   "outputs": [
    {
     "data": {
      "text/plain": [
       "\u001b[0;31mSignature:\u001b[0m \u001b[0mx\u001b[0m\u001b[0;34m.\u001b[0m\u001b[0mzfill\u001b[0m\u001b[0;34m(\u001b[0m\u001b[0mwidth\u001b[0m\u001b[0;34m,\u001b[0m \u001b[0;34m/\u001b[0m\u001b[0;34m)\u001b[0m\u001b[0;34m\u001b[0m\u001b[0;34m\u001b[0m\u001b[0m\n",
       "\u001b[0;31mDocstring:\u001b[0m\n",
       "Pad a numeric string with zeros on the left, to fill a field of the given width.\n",
       "\n",
       "The string is never truncated.\n",
       "\u001b[0;31mType:\u001b[0m      builtin_function_or_method"
      ]
     },
     "metadata": {},
     "output_type": "display_data"
    }
   ],
   "source": [
    "x.zfill?"
   ]
  },
  {
   "cell_type": "code",
   "execution_count": 53,
   "id": "0b817377-2a33-483b-8124-769238ccd14e",
   "metadata": {},
   "outputs": [
    {
     "data": {
      "text/plain": [
       "\u001b[0;31mSignature:\u001b[0m \u001b[0mx\u001b[0m\u001b[0;34m.\u001b[0m\u001b[0mstrip\u001b[0m\u001b[0;34m(\u001b[0m\u001b[0mchars\u001b[0m\u001b[0;34m=\u001b[0m\u001b[0;32mNone\u001b[0m\u001b[0;34m,\u001b[0m \u001b[0;34m/\u001b[0m\u001b[0;34m)\u001b[0m\u001b[0;34m\u001b[0m\u001b[0;34m\u001b[0m\u001b[0m\n",
       "\u001b[0;31mDocstring:\u001b[0m\n",
       "Return a copy of the string with leading and trailing whitespace removed.\n",
       "\n",
       "If chars is given and not None, remove characters in chars instead.\n",
       "\u001b[0;31mType:\u001b[0m      builtin_function_or_method"
      ]
     },
     "metadata": {},
     "output_type": "display_data"
    }
   ],
   "source": [
    "x.strip?"
   ]
  },
  {
   "cell_type": "code",
   "execution_count": 54,
   "id": "f68c9235-dd49-4759-b12b-8e1fb1b74f95",
   "metadata": {},
   "outputs": [
    {
     "data": {
      "text/plain": [
       "'Today is my birthday'"
      ]
     },
     "execution_count": 54,
     "metadata": {},
     "output_type": "execute_result"
    }
   ],
   "source": [
    "x"
   ]
  },
  {
   "cell_type": "code",
   "execution_count": 55,
   "id": "429bb9e6-ffd0-4a69-9e34-301340996748",
   "metadata": {},
   "outputs": [
    {
     "data": {
      "text/plain": [
       "['Today', 'is', 'my', 'birthday']"
      ]
     },
     "execution_count": 55,
     "metadata": {},
     "output_type": "execute_result"
    }
   ],
   "source": [
    "x.split()"
   ]
  },
  {
   "cell_type": "code",
   "execution_count": 56,
   "id": "2f0cbc7a-5ddf-4f4e-8687-f006f4c4aca0",
   "metadata": {},
   "outputs": [
    {
     "data": {
      "text/plain": [
       "\u001b[0;31mSignature:\u001b[0m \u001b[0mx\u001b[0m\u001b[0;34m.\u001b[0m\u001b[0msplit\u001b[0m\u001b[0;34m(\u001b[0m\u001b[0msep\u001b[0m\u001b[0;34m=\u001b[0m\u001b[0;32mNone\u001b[0m\u001b[0;34m,\u001b[0m \u001b[0mmaxsplit\u001b[0m\u001b[0;34m=\u001b[0m\u001b[0;34m-\u001b[0m\u001b[0;36m1\u001b[0m\u001b[0;34m)\u001b[0m\u001b[0;34m\u001b[0m\u001b[0;34m\u001b[0m\u001b[0m\n",
       "\u001b[0;31mDocstring:\u001b[0m\n",
       "Return a list of the substrings in the string, using sep as the separator string.\n",
       "\n",
       "  sep\n",
       "    The separator used to split the string.\n",
       "\n",
       "    When set to None (the default value), will split on any whitespace\n",
       "    character (including \\\\n \\\\r \\\\t \\\\f and spaces) and will discard\n",
       "    empty strings from the result.\n",
       "  maxsplit\n",
       "    Maximum number of splits (starting from the left).\n",
       "    -1 (the default value) means no limit.\n",
       "\n",
       "Note, str.split() is mainly useful for data that has been intentionally\n",
       "delimited.  With natural text that includes punctuation, consider using\n",
       "the regular expression module.\n",
       "\u001b[0;31mType:\u001b[0m      builtin_function_or_method"
      ]
     },
     "metadata": {},
     "output_type": "display_data"
    }
   ],
   "source": [
    "x.split?"
   ]
  },
  {
   "cell_type": "code",
   "execution_count": null,
   "id": "d88fca45-09af-4d98-bb98-7ebc33a02e62",
   "metadata": {},
   "outputs": [],
   "source": []
  }
 ],
 "metadata": {
  "kernelspec": {
   "display_name": "Python 3 (ipykernel)",
   "language": "python",
   "name": "python3"
  },
  "language_info": {
   "codemirror_mode": {
    "name": "ipython",
    "version": 3
   },
   "file_extension": ".py",
   "mimetype": "text/x-python",
   "name": "python",
   "nbconvert_exporter": "python",
   "pygments_lexer": "ipython3",
   "version": "3.10.10"
  }
 },
 "nbformat": 4,
 "nbformat_minor": 5
}
