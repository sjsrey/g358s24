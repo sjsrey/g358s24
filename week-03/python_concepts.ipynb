{
 "cells": [
  {
   "cell_type": "raw",
   "id": "bd5a8980-c548-461f-a365-35d2182742b9",
   "metadata": {},
   "source": [
    "---\n",
    "title: Python Programming Concepts\n",
    "format:\n",
    "  html\n",
    "---\n"
   ]
  },
  {
   "cell_type": "markdown",
   "id": "7cb1615e-46f2-4760-9a8d-b4d39e43b88b",
   "metadata": {},
   "source": [
    "## Lists"
   ]
  },
  {
   "cell_type": "code",
   "execution_count": 1,
   "id": "1b687b13-494b-446c-a01e-ba11096294ba",
   "metadata": {},
   "outputs": [],
   "source": [
    "first_list = [ 1, 2, 4]"
   ]
  },
  {
   "cell_type": "code",
   "execution_count": 2,
   "id": "49abc9b8-a977-4a6d-ae14-a164f33f635e",
   "metadata": {},
   "outputs": [
    {
     "data": {
      "text/plain": [
       "list"
      ]
     },
     "execution_count": 2,
     "metadata": {},
     "output_type": "execute_result"
    }
   ],
   "source": [
    "type(first_list)"
   ]
  },
  {
   "cell_type": "code",
   "execution_count": 3,
   "id": "9e326509-d06c-4f5d-b677-72d1f4569051",
   "metadata": {},
   "outputs": [],
   "source": [
    "counties = [ 'San Diego', 'Orange', 'Imperial', 'Riverside']"
   ]
  },
  {
   "cell_type": "code",
   "execution_count": 4,
   "id": "6d91b4f9-2c15-4fae-8da1-132e4dc1dd05",
   "metadata": {},
   "outputs": [
    {
     "data": {
      "text/plain": [
       "list"
      ]
     },
     "execution_count": 4,
     "metadata": {},
     "output_type": "execute_result"
    }
   ],
   "source": [
    "type(counties)"
   ]
  },
  {
   "cell_type": "code",
   "execution_count": 5,
   "id": "70f9e8e9-6645-462d-8117-6131525bfded",
   "metadata": {},
   "outputs": [
    {
     "data": {
      "text/plain": [
       "'San Diego'"
      ]
     },
     "execution_count": 5,
     "metadata": {},
     "output_type": "execute_result"
    }
   ],
   "source": [
    "counties[0]"
   ]
  },
  {
   "cell_type": "code",
   "execution_count": 6,
   "id": "e960d226-7701-44e6-a209-d81e7422410b",
   "metadata": {},
   "outputs": [
    {
     "data": {
      "text/plain": [
       "'Orange'"
      ]
     },
     "execution_count": 6,
     "metadata": {},
     "output_type": "execute_result"
    }
   ],
   "source": [
    "counties[1]"
   ]
  },
  {
   "cell_type": "code",
   "execution_count": 7,
   "id": "af6ae72a-8a6e-43c1-9177-1f66c598a67e",
   "metadata": {},
   "outputs": [
    {
     "data": {
      "text/plain": [
       "'Imperial'"
      ]
     },
     "execution_count": 7,
     "metadata": {},
     "output_type": "execute_result"
    }
   ],
   "source": [
    "counties[2]"
   ]
  },
  {
   "cell_type": "code",
   "execution_count": 8,
   "id": "e4db7b76-a9f9-406a-8651-3f35663cfdc0",
   "metadata": {},
   "outputs": [
    {
     "data": {
      "text/plain": [
       "'Riverside'"
      ]
     },
     "execution_count": 8,
     "metadata": {},
     "output_type": "execute_result"
    }
   ],
   "source": [
    "counties[3]"
   ]
  },
  {
   "cell_type": "code",
   "execution_count": 9,
   "id": "b98924eb-0fda-499d-9a20-5455365a1e31",
   "metadata": {},
   "outputs": [
    {
     "data": {
      "text/plain": [
       "'Riverside'"
      ]
     },
     "execution_count": 9,
     "metadata": {},
     "output_type": "execute_result"
    }
   ],
   "source": [
    "counties[-1]"
   ]
  },
  {
   "cell_type": "code",
   "execution_count": 10,
   "id": "0a984b40-a821-486f-8977-665572bad1da",
   "metadata": {},
   "outputs": [
    {
     "data": {
      "text/plain": [
       "'Imperial'"
      ]
     },
     "execution_count": 10,
     "metadata": {},
     "output_type": "execute_result"
    }
   ],
   "source": [
    "counties[-2]"
   ]
  },
  {
   "cell_type": "code",
   "execution_count": 11,
   "id": "ac5e7d90-c02d-488a-bec3-724d0c4e8140",
   "metadata": {},
   "outputs": [
    {
     "data": {
      "text/plain": [
       "['San Diego', 'Orange', 'Imperial', 'Riverside']"
      ]
     },
     "execution_count": 11,
     "metadata": {},
     "output_type": "execute_result"
    }
   ],
   "source": [
    "counties"
   ]
  },
  {
   "cell_type": "code",
   "execution_count": 12,
   "id": "6d6ee8ed-37cc-46d9-9af3-2dc055cf474a",
   "metadata": {},
   "outputs": [
    {
     "name": "stdout",
     "output_type": "stream",
     "text": [
      "['San Diego', 'Orange', 'Imperial', 'Riverside']\n"
     ]
    }
   ],
   "source": [
    "print(counties)"
   ]
  },
  {
   "cell_type": "code",
   "execution_count": 13,
   "id": "d10eb7de-8be9-4790-b847-a542101af55a",
   "metadata": {},
   "outputs": [
    {
     "data": {
      "text/plain": [
       "'San Diego'"
      ]
     },
     "execution_count": 13,
     "metadata": {},
     "output_type": "execute_result"
    }
   ],
   "source": [
    "counties[0]"
   ]
  },
  {
   "cell_type": "code",
   "execution_count": 14,
   "id": "c48679ea-036f-48b5-b0b2-66762ee87b0b",
   "metadata": {},
   "outputs": [
    {
     "data": {
      "text/plain": [
       "['Imperial', 'Riverside']"
      ]
     },
     "execution_count": 14,
     "metadata": {},
     "output_type": "execute_result"
    }
   ],
   "source": [
    "counties[-2:]"
   ]
  },
  {
   "cell_type": "code",
   "execution_count": 15,
   "id": "1ad12b30-5367-4760-8d80-fc9f5eb63a7d",
   "metadata": {},
   "outputs": [
    {
     "data": {
      "text/plain": [
       "['San Diego', 'Orange']"
      ]
     },
     "execution_count": 15,
     "metadata": {},
     "output_type": "execute_result"
    }
   ],
   "source": [
    "counties[:2]"
   ]
  },
  {
   "cell_type": "code",
   "execution_count": 16,
   "id": "ab270a01-1bed-4c6d-814a-a65b6a15978d",
   "metadata": {},
   "outputs": [
    {
     "data": {
      "text/plain": [
       "4"
      ]
     },
     "execution_count": 16,
     "metadata": {},
     "output_type": "execute_result"
    }
   ],
   "source": [
    "len(counties)"
   ]
  },
  {
   "cell_type": "code",
   "execution_count": 17,
   "id": "a13f5c7b-9cf2-465f-8dc1-a0a4554c7290",
   "metadata": {},
   "outputs": [
    {
     "data": {
      "text/plain": [
       "list"
      ]
     },
     "execution_count": 17,
     "metadata": {},
     "output_type": "execute_result"
    }
   ],
   "source": [
    "type(counties)"
   ]
  },
  {
   "cell_type": "code",
   "execution_count": 18,
   "id": "3a1a3137-fe7e-4abb-8e48-69116dca1283",
   "metadata": {},
   "outputs": [
    {
     "data": {
      "text/plain": [
       "str"
      ]
     },
     "execution_count": 18,
     "metadata": {},
     "output_type": "execute_result"
    }
   ],
   "source": [
    "type(counties[0])"
   ]
  },
  {
   "cell_type": "code",
   "execution_count": 19,
   "id": "e6fa7731-f2f4-4b44-8bef-ebe64c87500e",
   "metadata": {},
   "outputs": [
    {
     "data": {
      "text/plain": [
       "'San Diego'"
      ]
     },
     "execution_count": 19,
     "metadata": {},
     "output_type": "execute_result"
    }
   ],
   "source": [
    "counties[0]"
   ]
  },
  {
   "cell_type": "code",
   "execution_count": 20,
   "id": "cb90c41a-ca6b-48c9-9192-8cb3de223ea5",
   "metadata": {},
   "outputs": [],
   "source": [
    "counties[0] = 'SD'"
   ]
  },
  {
   "cell_type": "code",
   "execution_count": 21,
   "id": "4d0dad00-710c-4d43-aa25-3d60aa4df1e2",
   "metadata": {},
   "outputs": [
    {
     "data": {
      "text/plain": [
       "['SD', 'Orange', 'Imperial', 'Riverside']"
      ]
     },
     "execution_count": 21,
     "metadata": {},
     "output_type": "execute_result"
    }
   ],
   "source": [
    "counties"
   ]
  },
  {
   "cell_type": "code",
   "execution_count": 22,
   "id": "5b2d52aa-586c-4aee-8bbd-b4cebcfc5865",
   "metadata": {},
   "outputs": [],
   "source": [
    "counties[0] = 10"
   ]
  },
  {
   "cell_type": "code",
   "execution_count": 23,
   "id": "434174c4-c504-404a-9da8-e19eae7f432d",
   "metadata": {},
   "outputs": [
    {
     "data": {
      "text/plain": [
       "[10, 'Orange', 'Imperial', 'Riverside']"
      ]
     },
     "execution_count": 23,
     "metadata": {},
     "output_type": "execute_result"
    }
   ],
   "source": [
    "counties"
   ]
  },
  {
   "cell_type": "code",
   "execution_count": 24,
   "id": "a1234187-9d06-448d-8e64-478465af40e5",
   "metadata": {},
   "outputs": [
    {
     "data": {
      "text/plain": [
       "[10, 'Orange', 'Imperial', 'Riverside']"
      ]
     },
     "execution_count": 24,
     "metadata": {},
     "output_type": "execute_result"
    }
   ],
   "source": [
    "counties"
   ]
  },
  {
   "cell_type": "code",
   "execution_count": 25,
   "id": "a94d9a13-5673-402d-9ad6-b8d644fefc02",
   "metadata": {},
   "outputs": [],
   "source": [
    "counties.append(5000)"
   ]
  },
  {
   "cell_type": "code",
   "execution_count": 26,
   "id": "668f1bfa-05e4-49b7-ba7e-64a9ea4a5c0f",
   "metadata": {},
   "outputs": [
    {
     "data": {
      "text/plain": [
       "[10, 'Orange', 'Imperial', 'Riverside', 5000]"
      ]
     },
     "execution_count": 26,
     "metadata": {},
     "output_type": "execute_result"
    }
   ],
   "source": [
    "counties"
   ]
  },
  {
   "cell_type": "code",
   "execution_count": 27,
   "id": "af632aac-ef96-4cef-8c76-769e418b008c",
   "metadata": {},
   "outputs": [
    {
     "data": {
      "text/plain": [
       "['LA', 'Ventura']"
      ]
     },
     "execution_count": 27,
     "metadata": {},
     "output_type": "execute_result"
    }
   ],
   "source": [
    "north=['LA', 'Ventura']\n",
    "north"
   ]
  },
  {
   "cell_type": "code",
   "execution_count": 28,
   "id": "6f145df6-a2c3-459f-a2b9-b57c35272d2f",
   "metadata": {},
   "outputs": [],
   "source": [
    "c = counties.copy()"
   ]
  },
  {
   "cell_type": "code",
   "execution_count": 29,
   "id": "d40042f9-90ad-4d1c-91e6-57c2888863f5",
   "metadata": {},
   "outputs": [
    {
     "data": {
      "text/plain": [
       "[10, 'Orange', 'Imperial', 'Riverside', 5000]"
      ]
     },
     "execution_count": 29,
     "metadata": {},
     "output_type": "execute_result"
    }
   ],
   "source": [
    "c\n"
   ]
  },
  {
   "cell_type": "code",
   "execution_count": 30,
   "id": "9e30d5b3-600c-4150-b929-6beea84239a4",
   "metadata": {},
   "outputs": [],
   "source": [
    "c.append(north)"
   ]
  },
  {
   "cell_type": "code",
   "execution_count": 31,
   "id": "16f75e00-1177-4663-9706-cd9e8f236b69",
   "metadata": {},
   "outputs": [
    {
     "data": {
      "text/plain": [
       "[10, 'Orange', 'Imperial', 'Riverside', 5000, ['LA', 'Ventura']]"
      ]
     },
     "execution_count": 31,
     "metadata": {},
     "output_type": "execute_result"
    }
   ],
   "source": [
    "c"
   ]
  },
  {
   "cell_type": "code",
   "execution_count": 32,
   "id": "cedeac14-7ef9-4dd6-9621-f82fe5c6407a",
   "metadata": {},
   "outputs": [
    {
     "data": {
      "text/plain": [
       "[10, 'Orange', 'Imperial', 'Riverside', 5000]"
      ]
     },
     "execution_count": 32,
     "metadata": {},
     "output_type": "execute_result"
    }
   ],
   "source": [
    "counties"
   ]
  },
  {
   "cell_type": "code",
   "execution_count": 33,
   "id": "38e9181e-0c74-4a91-afd0-ceb824e5cb12",
   "metadata": {},
   "outputs": [
    {
     "data": {
      "text/plain": [
       "['LA', 'Ventura']"
      ]
     },
     "execution_count": 33,
     "metadata": {},
     "output_type": "execute_result"
    }
   ],
   "source": [
    "north"
   ]
  },
  {
   "cell_type": "code",
   "execution_count": 34,
   "id": "73a5e6da-3add-48d5-89e4-daaa58a69781",
   "metadata": {},
   "outputs": [],
   "source": [
    "counties.extend(north)"
   ]
  },
  {
   "cell_type": "code",
   "execution_count": 36,
   "id": "5447ed84-b686-4055-beb4-3e258c52d3d8",
   "metadata": {},
   "outputs": [
    {
     "data": {
      "text/plain": [
       "[10, 'Orange', 'Imperial', 'Riverside', 5000, 'LA', 'Ventura']"
      ]
     },
     "execution_count": 36,
     "metadata": {},
     "output_type": "execute_result"
    }
   ],
   "source": [
    "counties"
   ]
  },
  {
   "cell_type": "code",
   "execution_count": 37,
   "id": "9d765635-8766-4a18-aab5-2fb739d0f2e9",
   "metadata": {},
   "outputs": [
    {
     "data": {
      "text/plain": [
       "1"
      ]
     },
     "execution_count": 37,
     "metadata": {},
     "output_type": "execute_result"
    }
   ],
   "source": [
    "counties.count('Orange')"
   ]
  },
  {
   "cell_type": "code",
   "execution_count": 38,
   "id": "853d0a9d-a98a-4ad4-bd46-f54f0a909876",
   "metadata": {},
   "outputs": [
    {
     "data": {
      "text/plain": [
       "0"
      ]
     },
     "execution_count": 38,
     "metadata": {},
     "output_type": "execute_result"
    }
   ],
   "source": [
    "counties.count('LAX')"
   ]
  },
  {
   "cell_type": "code",
   "execution_count": 39,
   "id": "9851330b-23d6-45d6-9ac7-efe71ace4e43",
   "metadata": {},
   "outputs": [
    {
     "data": {
      "text/plain": [
       "1"
      ]
     },
     "execution_count": 39,
     "metadata": {},
     "output_type": "execute_result"
    }
   ],
   "source": [
    "counties.index('Orange')"
   ]
  },
  {
   "cell_type": "code",
   "execution_count": 40,
   "id": "df1a0b60-bf07-4de5-be05-495d62b84664",
   "metadata": {},
   "outputs": [
    {
     "ename": "ValueError",
     "evalue": "'LAX' is not in list",
     "output_type": "error",
     "traceback": [
      "\u001b[0;31m---------------------------------------------------------------------------\u001b[0m",
      "\u001b[0;31mValueError\u001b[0m                                Traceback (most recent call last)",
      "Cell \u001b[0;32mIn[40], line 1\u001b[0m\n\u001b[0;32m----> 1\u001b[0m \u001b[43mcounties\u001b[49m\u001b[38;5;241;43m.\u001b[39;49m\u001b[43mindex\u001b[49m\u001b[43m(\u001b[49m\u001b[38;5;124;43m'\u001b[39;49m\u001b[38;5;124;43mLAX\u001b[39;49m\u001b[38;5;124;43m'\u001b[39;49m\u001b[43m)\u001b[49m\n",
      "\u001b[0;31mValueError\u001b[0m: 'LAX' is not in list"
     ]
    }
   ],
   "source": [
    "counties.index('LAX')"
   ]
  },
  {
   "cell_type": "code",
   "execution_count": 41,
   "id": "26a1d2ce-64fb-4f55-9f19-a282cae0d8d5",
   "metadata": {},
   "outputs": [
    {
     "data": {
      "text/plain": [
       "[10, 'Orange', 'Imperial', 'Riverside', 5000, 'LA', 'Ventura']"
      ]
     },
     "execution_count": 41,
     "metadata": {},
     "output_type": "execute_result"
    }
   ],
   "source": [
    "counties"
   ]
  },
  {
   "cell_type": "code",
   "execution_count": 42,
   "id": "9c6847b9-9809-4e3d-8236-d61616c40fe7",
   "metadata": {},
   "outputs": [],
   "source": [
    "counties.reverse()"
   ]
  },
  {
   "cell_type": "code",
   "execution_count": 43,
   "id": "44d36b3c-1234-4f9c-a69c-88e80467d556",
   "metadata": {},
   "outputs": [
    {
     "data": {
      "text/plain": [
       "['Ventura', 'LA', 5000, 'Riverside', 'Imperial', 'Orange', 10]"
      ]
     },
     "execution_count": 43,
     "metadata": {},
     "output_type": "execute_result"
    }
   ],
   "source": [
    "counties"
   ]
  },
  {
   "cell_type": "code",
   "execution_count": 44,
   "id": "09a91e86-e308-4d0f-9335-41693650c22a",
   "metadata": {},
   "outputs": [
    {
     "ename": "TypeError",
     "evalue": "'<' not supported between instances of 'int' and 'str'",
     "output_type": "error",
     "traceback": [
      "\u001b[0;31m---------------------------------------------------------------------------\u001b[0m",
      "\u001b[0;31mTypeError\u001b[0m                                 Traceback (most recent call last)",
      "Cell \u001b[0;32mIn[44], line 1\u001b[0m\n\u001b[0;32m----> 1\u001b[0m \u001b[43mcounties\u001b[49m\u001b[38;5;241;43m.\u001b[39;49m\u001b[43msort\u001b[49m\u001b[43m(\u001b[49m\u001b[43m)\u001b[49m\n",
      "\u001b[0;31mTypeError\u001b[0m: '<' not supported between instances of 'int' and 'str'"
     ]
    }
   ],
   "source": [
    "counties.sort()"
   ]
  },
  {
   "cell_type": "code",
   "execution_count": 45,
   "id": "2a189a8c-32f1-4ee1-9496-e24892aa2414",
   "metadata": {},
   "outputs": [
    {
     "data": {
      "text/plain": [
       "['LA', 'Ventura']"
      ]
     },
     "execution_count": 45,
     "metadata": {},
     "output_type": "execute_result"
    }
   ],
   "source": [
    "north"
   ]
  },
  {
   "cell_type": "code",
   "execution_count": 46,
   "id": "f49f40f4-d7ff-4c5c-9a25-dc4efe8f21db",
   "metadata": {},
   "outputs": [],
   "source": [
    "north.sort()"
   ]
  },
  {
   "cell_type": "code",
   "execution_count": 47,
   "id": "74b7e58d-d8e3-4fb9-a0e6-89b2c1148d1d",
   "metadata": {},
   "outputs": [
    {
     "data": {
      "text/plain": [
       "['LA', 'Ventura']"
      ]
     },
     "execution_count": 47,
     "metadata": {},
     "output_type": "execute_result"
    }
   ],
   "source": [
    "north"
   ]
  },
  {
   "cell_type": "code",
   "execution_count": 48,
   "id": "aaba9e72-0df8-42f6-a6a2-e92952c6be31",
   "metadata": {},
   "outputs": [],
   "source": [
    "north = [ 'ventura', 'la']"
   ]
  },
  {
   "cell_type": "code",
   "execution_count": 49,
   "id": "67cb4350-d35a-4ac4-a36e-c01135f57efc",
   "metadata": {},
   "outputs": [
    {
     "data": {
      "text/plain": [
       "['ventura', 'la']"
      ]
     },
     "execution_count": 49,
     "metadata": {},
     "output_type": "execute_result"
    }
   ],
   "source": [
    "north"
   ]
  },
  {
   "cell_type": "code",
   "execution_count": 50,
   "id": "39c4cc69-f6c0-4cb1-9329-0f02ac049ed2",
   "metadata": {},
   "outputs": [],
   "source": [
    "north.sort()"
   ]
  },
  {
   "cell_type": "code",
   "execution_count": 51,
   "id": "90aef048-0795-4c99-bf99-578f890c9523",
   "metadata": {},
   "outputs": [
    {
     "data": {
      "text/plain": [
       "['la', 'ventura']"
      ]
     },
     "execution_count": 51,
     "metadata": {},
     "output_type": "execute_result"
    }
   ],
   "source": [
    "north"
   ]
  },
  {
   "cell_type": "markdown",
   "id": "6c9654d5-3626-402e-a66c-57d4b7333414",
   "metadata": {},
   "source": [
    "### List Comprehensions"
   ]
  },
  {
   "cell_type": "code",
   "execution_count": 52,
   "id": "482f77aa-bc85-47f0-b528-f23923ff6d38",
   "metadata": {},
   "outputs": [
    {
     "data": {
      "text/plain": [
       "['Ventura', 'LA', 5000, 'Riverside', 'Imperial', 'Orange', 10]"
      ]
     },
     "execution_count": 52,
     "metadata": {},
     "output_type": "execute_result"
    }
   ],
   "source": [
    "counties"
   ]
  },
  {
   "cell_type": "code",
   "execution_count": 54,
   "id": "a215a704-4357-4e95-b396-3b8e09072ab6",
   "metadata": {},
   "outputs": [
    {
     "data": {
      "text/plain": [
       "['Ventura', 'LA', 5000, 'Riverside', 'Imperial', 'Orange', 10]"
      ]
     },
     "execution_count": 54,
     "metadata": {},
     "output_type": "execute_result"
    }
   ],
   "source": [
    "[ element for element in counties]"
   ]
  },
  {
   "cell_type": "code",
   "execution_count": 55,
   "id": "9dcd84ec-ccd8-48ba-b3fc-326bee5eef9e",
   "metadata": {},
   "outputs": [
    {
     "data": {
      "text/plain": [
       "['Ventura', 'LA', 5000, 'Riverside', 'Imperial', 'Orange', 10]"
      ]
     },
     "execution_count": 55,
     "metadata": {},
     "output_type": "execute_result"
    }
   ],
   "source": [
    "[ i for i in counties ]"
   ]
  },
  {
   "cell_type": "code",
   "execution_count": 57,
   "id": "70d6edb2-7b6a-4e8f-8fdf-8aa583b5140b",
   "metadata": {},
   "outputs": [
    {
     "data": {
      "text/plain": [
       "str"
      ]
     },
     "execution_count": 57,
     "metadata": {},
     "output_type": "execute_result"
    }
   ],
   "source": [
    "type(counties[0])"
   ]
  },
  {
   "cell_type": "code",
   "execution_count": 58,
   "id": "e18b9698-391c-4823-ba47-3ed247e647f3",
   "metadata": {},
   "outputs": [
    {
     "data": {
      "text/plain": [
       "[str, str, int, str, str, str, int]"
      ]
     },
     "execution_count": 58,
     "metadata": {},
     "output_type": "execute_result"
    }
   ],
   "source": [
    "[ type(i) for i in counties ]"
   ]
  },
  {
   "cell_type": "code",
   "execution_count": 60,
   "id": "56923f79-95f1-4fd8-b7e1-74c700c4c876",
   "metadata": {},
   "outputs": [
    {
     "data": {
      "text/plain": [
       "[('Ventura', str),\n",
       " ('LA', str),\n",
       " (5000, int),\n",
       " ('Riverside', str),\n",
       " ('Imperial', str),\n",
       " ('Orange', str),\n",
       " (10, int)]"
      ]
     },
     "execution_count": 60,
     "metadata": {},
     "output_type": "execute_result"
    }
   ],
   "source": [
    "[ (i,type(i)) for i in counties ]"
   ]
  },
  {
   "cell_type": "code",
   "execution_count": 61,
   "id": "b54b8f89-260e-42a8-9769-2eea55409cf3",
   "metadata": {},
   "outputs": [],
   "source": [
    "counties = ['San Diego', 'Orange', 'Los Angeles', 'Ventura']"
   ]
  },
  {
   "cell_type": "code",
   "execution_count": 62,
   "id": "4eb495ea-d2cc-48aa-9598-85154d5c69c0",
   "metadata": {},
   "outputs": [
    {
     "data": {
      "text/plain": [
       "['San Diego', 'Orange', 'Los Angeles', 'Ventura']"
      ]
     },
     "execution_count": 62,
     "metadata": {},
     "output_type": "execute_result"
    }
   ],
   "source": [
    "counties"
   ]
  },
  {
   "cell_type": "code",
   "execution_count": 63,
   "id": "34814008-892b-4121-8c9a-24a6143c12c3",
   "metadata": {},
   "outputs": [
    {
     "data": {
      "text/plain": [
       "'San Diego'"
      ]
     },
     "execution_count": 63,
     "metadata": {},
     "output_type": "execute_result"
    }
   ],
   "source": [
    "sd = counties[0]\n",
    "sd"
   ]
  },
  {
   "cell_type": "code",
   "execution_count": 64,
   "id": "08412bec-5875-470a-af53-8d7606ccdb49",
   "metadata": {},
   "outputs": [
    {
     "data": {
      "text/plain": [
       "str"
      ]
     },
     "execution_count": 64,
     "metadata": {},
     "output_type": "execute_result"
    }
   ],
   "source": [
    "type(sd)"
   ]
  },
  {
   "cell_type": "code",
   "execution_count": 65,
   "id": "82d73750-5946-457a-b372-f5f48ecc1c6d",
   "metadata": {},
   "outputs": [
    {
     "data": {
      "text/plain": [
       "['San', 'Diego']"
      ]
     },
     "execution_count": 65,
     "metadata": {},
     "output_type": "execute_result"
    }
   ],
   "source": [
    "sd.split()"
   ]
  },
  {
   "cell_type": "code",
   "execution_count": 66,
   "id": "6d44c9aa-8481-4b6e-b114-353f86f04309",
   "metadata": {},
   "outputs": [
    {
     "data": {
      "text/plain": [
       "[['San', 'Diego'], ['Orange'], ['Los', 'Angeles'], ['Ventura']]"
      ]
     },
     "execution_count": 66,
     "metadata": {},
     "output_type": "execute_result"
    }
   ],
   "source": [
    "[ i.split() for i in counties ]"
   ]
  },
  {
   "cell_type": "markdown",
   "id": "f85507d4-1b4b-4594-abf6-21d3090c579c",
   "metadata": {},
   "source": [
    "## f-strings"
   ]
  },
  {
   "cell_type": "code",
   "execution_count": 67,
   "id": "6d8aeeed-f0bc-4810-831d-3ec475562367",
   "metadata": {},
   "outputs": [
    {
     "data": {
      "text/plain": [
       "'San Diego'"
      ]
     },
     "execution_count": 67,
     "metadata": {},
     "output_type": "execute_result"
    }
   ],
   "source": [
    "sd"
   ]
  },
  {
   "cell_type": "code",
   "execution_count": 68,
   "id": "476229ce-9b79-49be-8ca1-baa657005ec6",
   "metadata": {},
   "outputs": [
    {
     "data": {
      "text/plain": [
       "'The name of my favorite county is San Diego'"
      ]
     },
     "execution_count": 68,
     "metadata": {},
     "output_type": "execute_result"
    }
   ],
   "source": [
    "f\"The name of my favorite county is {sd}\""
   ]
  },
  {
   "cell_type": "code",
   "execution_count": 69,
   "id": "22aa1a99-6d98-42a0-ad62-e2cee3f94d5b",
   "metadata": {},
   "outputs": [
    {
     "data": {
      "text/plain": [
       "['The county is San Diego',\n",
       " 'The county is Orange',\n",
       " 'The county is Los Angeles',\n",
       " 'The county is Ventura']"
      ]
     },
     "execution_count": 69,
     "metadata": {},
     "output_type": "execute_result"
    }
   ],
   "source": [
    "[ f\"The county is {c}\" for c in counties]"
   ]
  },
  {
   "cell_type": "code",
   "execution_count": 70,
   "id": "2d2a3f4f-03af-4b59-bba4-4678bf1b145f",
   "metadata": {},
   "outputs": [
    {
     "data": {
      "text/plain": [
       "['The county is San Diego and it is 9 characters',\n",
       " 'The county is Orange and it is 6 characters',\n",
       " 'The county is Los Angeles and it is 11 characters',\n",
       " 'The county is Ventura and it is 7 characters']"
      ]
     },
     "execution_count": 70,
     "metadata": {},
     "output_type": "execute_result"
    }
   ],
   "source": [
    "[ f\"The county is {c} and it is {len(c)} characters\" for c in counties]"
   ]
  },
  {
   "cell_type": "code",
   "execution_count": 71,
   "id": "03008682-2924-403e-a8cd-03f2bd6de556",
   "metadata": {},
   "outputs": [],
   "source": [
    "pci = 18001.23"
   ]
  },
  {
   "cell_type": "code",
   "execution_count": 72,
   "id": "a844a877-6d79-419a-a4f0-a39daf6e2d81",
   "metadata": {},
   "outputs": [
    {
     "data": {
      "text/plain": [
       "18001.23"
      ]
     },
     "execution_count": 72,
     "metadata": {},
     "output_type": "execute_result"
    }
   ],
   "source": [
    "pci"
   ]
  },
  {
   "cell_type": "code",
   "execution_count": 73,
   "id": "2c9680bf-07c6-4cb3-adca-e39fe3193546",
   "metadata": {},
   "outputs": [
    {
     "data": {
      "text/plain": [
       "'The pci in this city is 18001.23'"
      ]
     },
     "execution_count": 73,
     "metadata": {},
     "output_type": "execute_result"
    }
   ],
   "source": [
    "f\"The pci in this city is {pci}\""
   ]
  },
  {
   "cell_type": "code",
   "execution_count": 74,
   "id": "c3c17f0b-a351-4a45-9ab3-ad502d2a2326",
   "metadata": {},
   "outputs": [
    {
     "data": {
      "text/plain": [
       "'The pci in this city is 18001'"
      ]
     },
     "execution_count": 74,
     "metadata": {},
     "output_type": "execute_result"
    }
   ],
   "source": [
    "f\"The pci in this city is {pci:.0f}\""
   ]
  },
  {
   "cell_type": "code",
   "execution_count": 75,
   "id": "c8435387-af3c-4caa-8f06-edd0c764ed48",
   "metadata": {},
   "outputs": [
    {
     "data": {
      "text/plain": [
       "'The pci in this city is 18001.2'"
      ]
     },
     "execution_count": 75,
     "metadata": {},
     "output_type": "execute_result"
    }
   ],
   "source": [
    "f\"The pci in this city is {pci:.1f}\""
   ]
  },
  {
   "cell_type": "markdown",
   "id": "81048d68-6c3f-4191-8e35-36903fabcd40",
   "metadata": {},
   "source": [
    "## Iteration"
   ]
  },
  {
   "cell_type": "code",
   "execution_count": 77,
   "id": "e2f870b6-8483-41d5-ac8f-63c13317a3a8",
   "metadata": {},
   "outputs": [
    {
     "data": {
      "text/plain": [
       "['San Diego', 'Orange', 'Los Angeles', 'Ventura']"
      ]
     },
     "execution_count": 77,
     "metadata": {},
     "output_type": "execute_result"
    }
   ],
   "source": [
    "counties"
   ]
  },
  {
   "cell_type": "code",
   "execution_count": 78,
   "id": "ecac7ba2-cb21-4bb6-8ee0-64daceb4a4f7",
   "metadata": {},
   "outputs": [
    {
     "name": "stdout",
     "output_type": "stream",
     "text": [
      "San Diego\n",
      "Orange\n",
      "Los Angeles\n",
      "Ventura\n"
     ]
    }
   ],
   "source": [
    "for county in counties:\n",
    "    print(county)"
   ]
  },
  {
   "cell_type": "code",
   "execution_count": 79,
   "id": "4aef7c58-9578-4438-b185-027c6869f4e0",
   "metadata": {},
   "outputs": [
    {
     "name": "stdout",
     "output_type": "stream",
     "text": [
      "0 San Diego\n",
      "1 Orange\n",
      "2 Los Angeles\n",
      "3 Ventura\n"
     ]
    }
   ],
   "source": [
    "c = 0\n",
    "for county in counties:\n",
    "    print(c, county)\n",
    "    c += 1"
   ]
  },
  {
   "cell_type": "code",
   "execution_count": 81,
   "id": "11742c21-ea03-43bf-8bab-e7ed23ac1839",
   "metadata": {},
   "outputs": [
    {
     "name": "stdout",
     "output_type": "stream",
     "text": [
      "0 San Diego\n",
      "1 Orange\n",
      "2 Los Angeles\n",
      "3 Ventura\n"
     ]
    }
   ],
   "source": [
    "for c, county in enumerate(counties):\n",
    "    print(c, county)"
   ]
  },
  {
   "cell_type": "code",
   "execution_count": 82,
   "id": "bbe16c16-f6e2-4fd2-ab94-904597d810e5",
   "metadata": {},
   "outputs": [
    {
     "name": "stdout",
     "output_type": "stream",
     "text": [
      "0 San Diego\n",
      "S\n",
      "a\n",
      "n\n",
      " \n",
      "D\n",
      "i\n",
      "e\n",
      "g\n",
      "o\n",
      "1 Orange\n",
      "O\n",
      "r\n",
      "a\n",
      "n\n",
      "g\n",
      "e\n",
      "2 Los Angeles\n",
      "L\n",
      "o\n",
      "s\n",
      " \n",
      "A\n",
      "n\n",
      "g\n",
      "e\n",
      "l\n",
      "e\n",
      "s\n",
      "3 Ventura\n",
      "V\n",
      "e\n",
      "n\n",
      "t\n",
      "u\n",
      "r\n",
      "a\n"
     ]
    }
   ],
   "source": [
    "for c, county in enumerate(counties):\n",
    "    print(c, county)\n",
    "    for char in county:\n",
    "        print(char)"
   ]
  },
  {
   "cell_type": "markdown",
   "id": "67b3be53-2fa0-4d23-bcaa-58baee681e09",
   "metadata": {},
   "source": [
    "## Conditional Execution"
   ]
  },
  {
   "cell_type": "code",
   "execution_count": 83,
   "id": "f72e2bfb-e061-4ccc-aa9d-195d6da38d6a",
   "metadata": {},
   "outputs": [
    {
     "data": {
      "text/plain": [
       "True"
      ]
     },
     "execution_count": 83,
     "metadata": {},
     "output_type": "execute_result"
    }
   ],
   "source": [
    "10 > 5"
   ]
  },
  {
   "cell_type": "code",
   "execution_count": 84,
   "id": "38cc10f8-49d7-49d3-b706-278144882589",
   "metadata": {},
   "outputs": [
    {
     "name": "stdout",
     "output_type": "stream",
     "text": [
      "10 is greater than 5\n"
     ]
    }
   ],
   "source": [
    "if 10>5:\n",
    "    print('10 is greater than 5')"
   ]
  },
  {
   "cell_type": "code",
   "execution_count": 85,
   "id": "ba57030c-0f51-488a-b887-b235cd2f393c",
   "metadata": {},
   "outputs": [],
   "source": [
    "a = 5\n",
    "b = 10\n",
    "if a>b:\n",
    "    print(f'{a} is greater than {b}')"
   ]
  },
  {
   "cell_type": "code",
   "execution_count": 86,
   "id": "e72c9ba0-60bf-4109-8944-c912db3d2a92",
   "metadata": {},
   "outputs": [
    {
     "name": "stdout",
     "output_type": "stream",
     "text": [
      "5 is less than 10\n"
     ]
    }
   ],
   "source": [
    "a = 5\n",
    "b = 10\n",
    "if a<b:\n",
    "    print(f'{a} is less than {b}')"
   ]
  },
  {
   "cell_type": "code",
   "execution_count": 87,
   "id": "30e56152-2ea7-4bd9-a05d-a60dac75b161",
   "metadata": {},
   "outputs": [
    {
     "data": {
      "text/plain": [
       "['San Diego', 'Orange', 'Los Angeles', 'Ventura']"
      ]
     },
     "execution_count": 87,
     "metadata": {},
     "output_type": "execute_result"
    }
   ],
   "source": [
    "counties"
   ]
  },
  {
   "cell_type": "markdown",
   "id": "96ead3a9-b064-4231-a457-128d856685a9",
   "metadata": {},
   "source": [
    "## use a for loop with an if statement to print out the counties with multiple word names"
   ]
  },
  {
   "cell_type": "code",
   "execution_count": 89,
   "id": "d68ce6f9-ee44-4a90-ad06-155a7bc80529",
   "metadata": {},
   "outputs": [
    {
     "name": "stdout",
     "output_type": "stream",
     "text": [
      "['San', 'Diego']\n",
      "['Orange']\n",
      "['Los', 'Angeles']\n",
      "['Ventura']\n"
     ]
    }
   ],
   "source": [
    "for county in counties:\n",
    "    print(county.split())"
   ]
  },
  {
   "cell_type": "code",
   "execution_count": 91,
   "id": "73f2dcc0-1647-49f7-86f0-f497429d99c8",
   "metadata": {},
   "outputs": [
    {
     "name": "stdout",
     "output_type": "stream",
     "text": [
      "San Diego\n",
      "Los Angeles\n"
     ]
    }
   ],
   "source": [
    "for county in counties:\n",
    "    if len(county.split()) == 2:\n",
    "        print(county)"
   ]
  },
  {
   "cell_type": "code",
   "execution_count": 92,
   "id": "f33f17bd-a759-4121-bce8-d3351d94e586",
   "metadata": {},
   "outputs": [
    {
     "name": "stdout",
     "output_type": "stream",
     "text": [
      "San Diego\n",
      "Los Angeles\n"
     ]
    }
   ],
   "source": [
    "for county in counties:\n",
    "    if \" \" in county:\n",
    "        print(county)"
   ]
  },
  {
   "cell_type": "code",
   "execution_count": null,
   "id": "77f6ccfd-8bd1-488a-922f-09dda79b861b",
   "metadata": {},
   "outputs": [],
   "source": []
  }
 ],
 "metadata": {
  "kernelspec": {
   "display_name": "Python 3 (ipykernel)",
   "language": "python",
   "name": "python3"
  },
  "language_info": {
   "codemirror_mode": {
    "name": "ipython",
    "version": 3
   },
   "file_extension": ".py",
   "mimetype": "text/x-python",
   "name": "python",
   "nbconvert_exporter": "python",
   "pygments_lexer": "ipython3",
   "version": "3.10.10"
  }
 },
 "nbformat": 4,
 "nbformat_minor": 5
}
