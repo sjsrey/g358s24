{
 "cells": [
  {
   "cell_type": "raw",
   "id": "92b1ca19-05ee-45f5-9f82-b4a8fb8381d2",
   "metadata": {},
   "source": [
    "---\n",
    "title: Introduction to Pandas\n",
    "format: html\n",
    "---"
   ]
  },
  {
   "cell_type": "code",
   "execution_count": 1,
   "id": "489d1012-70ad-4bc7-9701-b2022519b6bd",
   "metadata": {},
   "outputs": [],
   "source": [
    "import pandas as pd"
   ]
  },
  {
   "cell_type": "code",
   "execution_count": 2,
   "id": "eb5e496d-2d59-41d7-8b8f-9569e9de0d92",
   "metadata": {},
   "outputs": [],
   "source": [
    "import numpy as np"
   ]
  },
  {
   "cell_type": "markdown",
   "id": "33c46d0d-7b4c-4c63-a7b2-ffe913d46516",
   "metadata": {},
   "source": [
    "## Pandas\n",
    "\n",
    "- Series\n",
    "- DataFrame"
   ]
  },
  {
   "cell_type": "code",
   "execution_count": 3,
   "id": "def6dfc3-ea18-4498-b150-b059349b6ca4",
   "metadata": {},
   "outputs": [],
   "source": [
    "s = pd.Series([1, 3, 5, np.nan, 6, 8])"
   ]
  },
  {
   "cell_type": "code",
   "execution_count": 4,
   "id": "4a50df27-74e7-4b12-b170-15cabdc5c9d7",
   "metadata": {},
   "outputs": [
    {
     "data": {
      "text/plain": [
       "0    1.0\n",
       "1    3.0\n",
       "2    5.0\n",
       "3    NaN\n",
       "4    6.0\n",
       "5    8.0\n",
       "dtype: float64"
      ]
     },
     "execution_count": 4,
     "metadata": {},
     "output_type": "execute_result"
    }
   ],
   "source": [
    "s"
   ]
  },
  {
   "cell_type": "code",
   "execution_count": 6,
   "id": "aa3c1c45-826b-4e4f-a431-bc133683c4aa",
   "metadata": {},
   "outputs": [],
   "source": [
    "dates = pd.date_range(\"20130101\", periods=6)"
   ]
  },
  {
   "cell_type": "code",
   "execution_count": 7,
   "id": "73bc113b-dd32-4a59-b5d0-b83ff0b58e6f",
   "metadata": {},
   "outputs": [
    {
     "data": {
      "text/plain": [
       "DatetimeIndex(['2013-01-01', '2013-01-02', '2013-01-03', '2013-01-04',\n",
       "               '2013-01-05', '2013-01-06'],\n",
       "              dtype='datetime64[ns]', freq='D')"
      ]
     },
     "execution_count": 7,
     "metadata": {},
     "output_type": "execute_result"
    }
   ],
   "source": [
    "dates"
   ]
  },
  {
   "cell_type": "code",
   "execution_count": 8,
   "id": "640bec63-2c54-45a5-94ad-a8ed46e90a59",
   "metadata": {},
   "outputs": [],
   "source": [
    "df = pd.DataFrame(np.random.rand(6,4), index=dates,\n",
    "                  columns=list(\"ABCD\"))"
   ]
  },
  {
   "cell_type": "code",
   "execution_count": 9,
   "id": "dbf61700-53fc-4943-ae01-3fd4c75e3dfd",
   "metadata": {},
   "outputs": [
    {
     "data": {
      "text/html": [
       "<div>\n",
       "<style scoped>\n",
       "    .dataframe tbody tr th:only-of-type {\n",
       "        vertical-align: middle;\n",
       "    }\n",
       "\n",
       "    .dataframe tbody tr th {\n",
       "        vertical-align: top;\n",
       "    }\n",
       "\n",
       "    .dataframe thead th {\n",
       "        text-align: right;\n",
       "    }\n",
       "</style>\n",
       "<table border=\"1\" class=\"dataframe\">\n",
       "  <thead>\n",
       "    <tr style=\"text-align: right;\">\n",
       "      <th></th>\n",
       "      <th>A</th>\n",
       "      <th>B</th>\n",
       "      <th>C</th>\n",
       "      <th>D</th>\n",
       "    </tr>\n",
       "  </thead>\n",
       "  <tbody>\n",
       "    <tr>\n",
       "      <th>2013-01-01</th>\n",
       "      <td>0.501461</td>\n",
       "      <td>0.130345</td>\n",
       "      <td>0.229421</td>\n",
       "      <td>0.465291</td>\n",
       "    </tr>\n",
       "    <tr>\n",
       "      <th>2013-01-02</th>\n",
       "      <td>0.939781</td>\n",
       "      <td>0.723002</td>\n",
       "      <td>0.000828</td>\n",
       "      <td>0.889367</td>\n",
       "    </tr>\n",
       "    <tr>\n",
       "      <th>2013-01-03</th>\n",
       "      <td>0.918302</td>\n",
       "      <td>0.127217</td>\n",
       "      <td>0.700967</td>\n",
       "      <td>0.384033</td>\n",
       "    </tr>\n",
       "    <tr>\n",
       "      <th>2013-01-04</th>\n",
       "      <td>0.727648</td>\n",
       "      <td>0.420577</td>\n",
       "      <td>0.386597</td>\n",
       "      <td>0.487347</td>\n",
       "    </tr>\n",
       "    <tr>\n",
       "      <th>2013-01-05</th>\n",
       "      <td>0.553077</td>\n",
       "      <td>0.663846</td>\n",
       "      <td>0.281396</td>\n",
       "      <td>0.464055</td>\n",
       "    </tr>\n",
       "    <tr>\n",
       "      <th>2013-01-06</th>\n",
       "      <td>0.123874</td>\n",
       "      <td>0.498903</td>\n",
       "      <td>0.046609</td>\n",
       "      <td>0.876010</td>\n",
       "    </tr>\n",
       "  </tbody>\n",
       "</table>\n",
       "</div>"
      ],
      "text/plain": [
       "                   A         B         C         D\n",
       "2013-01-01  0.501461  0.130345  0.229421  0.465291\n",
       "2013-01-02  0.939781  0.723002  0.000828  0.889367\n",
       "2013-01-03  0.918302  0.127217  0.700967  0.384033\n",
       "2013-01-04  0.727648  0.420577  0.386597  0.487347\n",
       "2013-01-05  0.553077  0.663846  0.281396  0.464055\n",
       "2013-01-06  0.123874  0.498903  0.046609  0.876010"
      ]
     },
     "execution_count": 9,
     "metadata": {},
     "output_type": "execute_result"
    }
   ],
   "source": [
    "df"
   ]
  },
  {
   "cell_type": "code",
   "execution_count": 10,
   "id": "88c57912-ef64-489b-926b-ac803645f7d1",
   "metadata": {},
   "outputs": [
    {
     "data": {
      "text/html": [
       "<div>\n",
       "<style scoped>\n",
       "    .dataframe tbody tr th:only-of-type {\n",
       "        vertical-align: middle;\n",
       "    }\n",
       "\n",
       "    .dataframe tbody tr th {\n",
       "        vertical-align: top;\n",
       "    }\n",
       "\n",
       "    .dataframe thead th {\n",
       "        text-align: right;\n",
       "    }\n",
       "</style>\n",
       "<table border=\"1\" class=\"dataframe\">\n",
       "  <thead>\n",
       "    <tr style=\"text-align: right;\">\n",
       "      <th></th>\n",
       "      <th>A</th>\n",
       "      <th>B</th>\n",
       "      <th>C</th>\n",
       "      <th>D</th>\n",
       "    </tr>\n",
       "  </thead>\n",
       "  <tbody>\n",
       "    <tr>\n",
       "      <th>0</th>\n",
       "      <td>0.370312</td>\n",
       "      <td>0.766785</td>\n",
       "      <td>0.856606</td>\n",
       "      <td>0.574230</td>\n",
       "    </tr>\n",
       "    <tr>\n",
       "      <th>1</th>\n",
       "      <td>0.477143</td>\n",
       "      <td>0.770306</td>\n",
       "      <td>0.154779</td>\n",
       "      <td>0.427858</td>\n",
       "    </tr>\n",
       "    <tr>\n",
       "      <th>2</th>\n",
       "      <td>0.604037</td>\n",
       "      <td>0.747945</td>\n",
       "      <td>0.132992</td>\n",
       "      <td>0.262011</td>\n",
       "    </tr>\n",
       "    <tr>\n",
       "      <th>3</th>\n",
       "      <td>0.671085</td>\n",
       "      <td>0.679174</td>\n",
       "      <td>0.381207</td>\n",
       "      <td>0.954910</td>\n",
       "    </tr>\n",
       "    <tr>\n",
       "      <th>4</th>\n",
       "      <td>0.662184</td>\n",
       "      <td>0.029351</td>\n",
       "      <td>0.363693</td>\n",
       "      <td>0.170847</td>\n",
       "    </tr>\n",
       "    <tr>\n",
       "      <th>5</th>\n",
       "      <td>0.760570</td>\n",
       "      <td>0.711854</td>\n",
       "      <td>0.091584</td>\n",
       "      <td>0.687423</td>\n",
       "    </tr>\n",
       "  </tbody>\n",
       "</table>\n",
       "</div>"
      ],
      "text/plain": [
       "          A         B         C         D\n",
       "0  0.370312  0.766785  0.856606  0.574230\n",
       "1  0.477143  0.770306  0.154779  0.427858\n",
       "2  0.604037  0.747945  0.132992  0.262011\n",
       "3  0.671085  0.679174  0.381207  0.954910\n",
       "4  0.662184  0.029351  0.363693  0.170847\n",
       "5  0.760570  0.711854  0.091584  0.687423"
      ]
     },
     "execution_count": 10,
     "metadata": {},
     "output_type": "execute_result"
    }
   ],
   "source": [
    "pd.DataFrame(np.random.rand(6,4),\n",
    "                  columns=list(\"ABCD\"))"
   ]
  },
  {
   "cell_type": "code",
   "execution_count": 11,
   "id": "b966926b-f793-4ac3-ac38-d66fb096aef0",
   "metadata": {},
   "outputs": [
    {
     "data": {
      "text/plain": [
       "array([[0.31089479, 0.7735978 ],\n",
       "       [0.82751496, 0.83485609],\n",
       "       [0.86671021, 0.99840853]])"
      ]
     },
     "execution_count": 11,
     "metadata": {},
     "output_type": "execute_result"
    }
   ],
   "source": [
    "np.random.rand(3, 2)"
   ]
  },
  {
   "cell_type": "code",
   "execution_count": 13,
   "id": "cfd6a04b-af85-4c9f-ab3e-6944ef91e1e7",
   "metadata": {},
   "outputs": [
    {
     "data": {
      "text/plain": [
       "\u001b[0;31mDocstring:\u001b[0m\n",
       "rand(d0, d1, ..., dn)\n",
       "\n",
       "Random values in a given shape.\n",
       "\n",
       ".. note::\n",
       "    This is a convenience function for users porting code from Matlab,\n",
       "    and wraps `random_sample`. That function takes a\n",
       "    tuple to specify the size of the output, which is consistent with\n",
       "    other NumPy functions like `numpy.zeros` and `numpy.ones`.\n",
       "\n",
       "Create an array of the given shape and populate it with\n",
       "random samples from a uniform distribution\n",
       "over ``[0, 1)``.\n",
       "\n",
       "Parameters\n",
       "----------\n",
       "d0, d1, ..., dn : int, optional\n",
       "    The dimensions of the returned array, must be non-negative.\n",
       "    If no argument is given a single Python float is returned.\n",
       "\n",
       "Returns\n",
       "-------\n",
       "out : ndarray, shape ``(d0, d1, ..., dn)``\n",
       "    Random values.\n",
       "\n",
       "See Also\n",
       "--------\n",
       "random\n",
       "\n",
       "Examples\n",
       "--------\n",
       ">>> np.random.rand(3,2)\n",
       "array([[ 0.14022471,  0.96360618],  #random\n",
       "       [ 0.37601032,  0.25528411],  #random\n",
       "       [ 0.49313049,  0.94909878]]) #random\n",
       "\u001b[0;31mType:\u001b[0m      builtin_function_or_method"
      ]
     },
     "metadata": {},
     "output_type": "display_data"
    }
   ],
   "source": [
    "np.random.rand?"
   ]
  },
  {
   "cell_type": "code",
   "execution_count": 14,
   "id": "a208be78-ff56-4276-8718-7747ada47001",
   "metadata": {},
   "outputs": [
    {
     "data": {
      "text/html": [
       "<div>\n",
       "<style scoped>\n",
       "    .dataframe tbody tr th:only-of-type {\n",
       "        vertical-align: middle;\n",
       "    }\n",
       "\n",
       "    .dataframe tbody tr th {\n",
       "        vertical-align: top;\n",
       "    }\n",
       "\n",
       "    .dataframe thead th {\n",
       "        text-align: right;\n",
       "    }\n",
       "</style>\n",
       "<table border=\"1\" class=\"dataframe\">\n",
       "  <thead>\n",
       "    <tr style=\"text-align: right;\">\n",
       "      <th></th>\n",
       "      <th>A</th>\n",
       "      <th>B</th>\n",
       "      <th>C</th>\n",
       "      <th>D</th>\n",
       "    </tr>\n",
       "  </thead>\n",
       "  <tbody>\n",
       "    <tr>\n",
       "      <th>2013-01-01</th>\n",
       "      <td>0.501461</td>\n",
       "      <td>0.130345</td>\n",
       "      <td>0.229421</td>\n",
       "      <td>0.465291</td>\n",
       "    </tr>\n",
       "    <tr>\n",
       "      <th>2013-01-02</th>\n",
       "      <td>0.939781</td>\n",
       "      <td>0.723002</td>\n",
       "      <td>0.000828</td>\n",
       "      <td>0.889367</td>\n",
       "    </tr>\n",
       "    <tr>\n",
       "      <th>2013-01-03</th>\n",
       "      <td>0.918302</td>\n",
       "      <td>0.127217</td>\n",
       "      <td>0.700967</td>\n",
       "      <td>0.384033</td>\n",
       "    </tr>\n",
       "    <tr>\n",
       "      <th>2013-01-04</th>\n",
       "      <td>0.727648</td>\n",
       "      <td>0.420577</td>\n",
       "      <td>0.386597</td>\n",
       "      <td>0.487347</td>\n",
       "    </tr>\n",
       "    <tr>\n",
       "      <th>2013-01-05</th>\n",
       "      <td>0.553077</td>\n",
       "      <td>0.663846</td>\n",
       "      <td>0.281396</td>\n",
       "      <td>0.464055</td>\n",
       "    </tr>\n",
       "    <tr>\n",
       "      <th>2013-01-06</th>\n",
       "      <td>0.123874</td>\n",
       "      <td>0.498903</td>\n",
       "      <td>0.046609</td>\n",
       "      <td>0.876010</td>\n",
       "    </tr>\n",
       "  </tbody>\n",
       "</table>\n",
       "</div>"
      ],
      "text/plain": [
       "                   A         B         C         D\n",
       "2013-01-01  0.501461  0.130345  0.229421  0.465291\n",
       "2013-01-02  0.939781  0.723002  0.000828  0.889367\n",
       "2013-01-03  0.918302  0.127217  0.700967  0.384033\n",
       "2013-01-04  0.727648  0.420577  0.386597  0.487347\n",
       "2013-01-05  0.553077  0.663846  0.281396  0.464055\n",
       "2013-01-06  0.123874  0.498903  0.046609  0.876010"
      ]
     },
     "execution_count": 14,
     "metadata": {},
     "output_type": "execute_result"
    }
   ],
   "source": [
    "df"
   ]
  },
  {
   "cell_type": "code",
   "execution_count": 15,
   "id": "9d12602f-8c47-426e-b3c2-ea54c807f80b",
   "metadata": {},
   "outputs": [
    {
     "data": {
      "text/plain": [
       "A    float64\n",
       "B    float64\n",
       "C    float64\n",
       "D    float64\n",
       "dtype: object"
      ]
     },
     "execution_count": 15,
     "metadata": {},
     "output_type": "execute_result"
    }
   ],
   "source": [
    "df.dtypes"
   ]
  },
  {
   "cell_type": "code",
   "execution_count": 16,
   "id": "5203295b-dbff-42a6-ad86-dd1a13e499ba",
   "metadata": {},
   "outputs": [],
   "source": [
    "df2 = pd.DataFrame(\n",
    "    {\n",
    "        \"A\": 1.0,\n",
    "        \"B\": pd.Timestamp(\"20130102\"),\n",
    "        \"C\": pd.Series(1, index=list(range(4)), dtype='float32'),\n",
    "        \"D\": np.array([3] * 4, dtype='int32'),\n",
    "        \"E\": pd.Categorical(['test', 'train', 'test', 'train']),\n",
    "        \"F\": 'foo',\n",
    "    }\n",
    ")\n",
    "       \n",
    "                       \n",
    "        "
   ]
  },
  {
   "cell_type": "code",
   "execution_count": 17,
   "id": "c6c525cd-d916-4c69-b1d8-9c1e2304ea55",
   "metadata": {},
   "outputs": [
    {
     "data": {
      "text/html": [
       "<div>\n",
       "<style scoped>\n",
       "    .dataframe tbody tr th:only-of-type {\n",
       "        vertical-align: middle;\n",
       "    }\n",
       "\n",
       "    .dataframe tbody tr th {\n",
       "        vertical-align: top;\n",
       "    }\n",
       "\n",
       "    .dataframe thead th {\n",
       "        text-align: right;\n",
       "    }\n",
       "</style>\n",
       "<table border=\"1\" class=\"dataframe\">\n",
       "  <thead>\n",
       "    <tr style=\"text-align: right;\">\n",
       "      <th></th>\n",
       "      <th>A</th>\n",
       "      <th>B</th>\n",
       "      <th>C</th>\n",
       "      <th>D</th>\n",
       "      <th>E</th>\n",
       "      <th>F</th>\n",
       "    </tr>\n",
       "  </thead>\n",
       "  <tbody>\n",
       "    <tr>\n",
       "      <th>0</th>\n",
       "      <td>1.0</td>\n",
       "      <td>2013-01-02</td>\n",
       "      <td>1.0</td>\n",
       "      <td>3</td>\n",
       "      <td>test</td>\n",
       "      <td>foo</td>\n",
       "    </tr>\n",
       "    <tr>\n",
       "      <th>1</th>\n",
       "      <td>1.0</td>\n",
       "      <td>2013-01-02</td>\n",
       "      <td>1.0</td>\n",
       "      <td>3</td>\n",
       "      <td>train</td>\n",
       "      <td>foo</td>\n",
       "    </tr>\n",
       "    <tr>\n",
       "      <th>2</th>\n",
       "      <td>1.0</td>\n",
       "      <td>2013-01-02</td>\n",
       "      <td>1.0</td>\n",
       "      <td>3</td>\n",
       "      <td>test</td>\n",
       "      <td>foo</td>\n",
       "    </tr>\n",
       "    <tr>\n",
       "      <th>3</th>\n",
       "      <td>1.0</td>\n",
       "      <td>2013-01-02</td>\n",
       "      <td>1.0</td>\n",
       "      <td>3</td>\n",
       "      <td>train</td>\n",
       "      <td>foo</td>\n",
       "    </tr>\n",
       "  </tbody>\n",
       "</table>\n",
       "</div>"
      ],
      "text/plain": [
       "     A          B    C  D      E    F\n",
       "0  1.0 2013-01-02  1.0  3   test  foo\n",
       "1  1.0 2013-01-02  1.0  3  train  foo\n",
       "2  1.0 2013-01-02  1.0  3   test  foo\n",
       "3  1.0 2013-01-02  1.0  3  train  foo"
      ]
     },
     "execution_count": 17,
     "metadata": {},
     "output_type": "execute_result"
    }
   ],
   "source": [
    "df2"
   ]
  },
  {
   "cell_type": "code",
   "execution_count": 18,
   "id": "708e762b-46b0-4247-a0e8-25cafceefd96",
   "metadata": {},
   "outputs": [
    {
     "data": {
      "text/plain": [
       "A          float64\n",
       "B    datetime64[s]\n",
       "C          float32\n",
       "D            int32\n",
       "E         category\n",
       "F           object\n",
       "dtype: object"
      ]
     },
     "execution_count": 18,
     "metadata": {},
     "output_type": "execute_result"
    }
   ],
   "source": [
    "df2.dtypes"
   ]
  },
  {
   "cell_type": "code",
   "execution_count": 19,
   "id": "67407a91-3045-4e6f-b9da-0a69792e607f",
   "metadata": {},
   "outputs": [
    {
     "data": {
      "text/html": [
       "<div>\n",
       "<style scoped>\n",
       "    .dataframe tbody tr th:only-of-type {\n",
       "        vertical-align: middle;\n",
       "    }\n",
       "\n",
       "    .dataframe tbody tr th {\n",
       "        vertical-align: top;\n",
       "    }\n",
       "\n",
       "    .dataframe thead th {\n",
       "        text-align: right;\n",
       "    }\n",
       "</style>\n",
       "<table border=\"1\" class=\"dataframe\">\n",
       "  <thead>\n",
       "    <tr style=\"text-align: right;\">\n",
       "      <th></th>\n",
       "      <th>A</th>\n",
       "      <th>B</th>\n",
       "      <th>C</th>\n",
       "      <th>D</th>\n",
       "    </tr>\n",
       "  </thead>\n",
       "  <tbody>\n",
       "    <tr>\n",
       "      <th>2013-01-01</th>\n",
       "      <td>0.501461</td>\n",
       "      <td>0.130345</td>\n",
       "      <td>0.229421</td>\n",
       "      <td>0.465291</td>\n",
       "    </tr>\n",
       "    <tr>\n",
       "      <th>2013-01-02</th>\n",
       "      <td>0.939781</td>\n",
       "      <td>0.723002</td>\n",
       "      <td>0.000828</td>\n",
       "      <td>0.889367</td>\n",
       "    </tr>\n",
       "    <tr>\n",
       "      <th>2013-01-03</th>\n",
       "      <td>0.918302</td>\n",
       "      <td>0.127217</td>\n",
       "      <td>0.700967</td>\n",
       "      <td>0.384033</td>\n",
       "    </tr>\n",
       "    <tr>\n",
       "      <th>2013-01-04</th>\n",
       "      <td>0.727648</td>\n",
       "      <td>0.420577</td>\n",
       "      <td>0.386597</td>\n",
       "      <td>0.487347</td>\n",
       "    </tr>\n",
       "    <tr>\n",
       "      <th>2013-01-05</th>\n",
       "      <td>0.553077</td>\n",
       "      <td>0.663846</td>\n",
       "      <td>0.281396</td>\n",
       "      <td>0.464055</td>\n",
       "    </tr>\n",
       "  </tbody>\n",
       "</table>\n",
       "</div>"
      ],
      "text/plain": [
       "                   A         B         C         D\n",
       "2013-01-01  0.501461  0.130345  0.229421  0.465291\n",
       "2013-01-02  0.939781  0.723002  0.000828  0.889367\n",
       "2013-01-03  0.918302  0.127217  0.700967  0.384033\n",
       "2013-01-04  0.727648  0.420577  0.386597  0.487347\n",
       "2013-01-05  0.553077  0.663846  0.281396  0.464055"
      ]
     },
     "execution_count": 19,
     "metadata": {},
     "output_type": "execute_result"
    }
   ],
   "source": [
    "df.head()"
   ]
  },
  {
   "cell_type": "code",
   "execution_count": 20,
   "id": "98a2d3d2-d9ad-4fc7-b416-942ec22471ee",
   "metadata": {},
   "outputs": [
    {
     "data": {
      "text/html": [
       "<div>\n",
       "<style scoped>\n",
       "    .dataframe tbody tr th:only-of-type {\n",
       "        vertical-align: middle;\n",
       "    }\n",
       "\n",
       "    .dataframe tbody tr th {\n",
       "        vertical-align: top;\n",
       "    }\n",
       "\n",
       "    .dataframe thead th {\n",
       "        text-align: right;\n",
       "    }\n",
       "</style>\n",
       "<table border=\"1\" class=\"dataframe\">\n",
       "  <thead>\n",
       "    <tr style=\"text-align: right;\">\n",
       "      <th></th>\n",
       "      <th>A</th>\n",
       "      <th>B</th>\n",
       "      <th>C</th>\n",
       "      <th>D</th>\n",
       "    </tr>\n",
       "  </thead>\n",
       "  <tbody>\n",
       "    <tr>\n",
       "      <th>2013-01-02</th>\n",
       "      <td>0.939781</td>\n",
       "      <td>0.723002</td>\n",
       "      <td>0.000828</td>\n",
       "      <td>0.889367</td>\n",
       "    </tr>\n",
       "    <tr>\n",
       "      <th>2013-01-03</th>\n",
       "      <td>0.918302</td>\n",
       "      <td>0.127217</td>\n",
       "      <td>0.700967</td>\n",
       "      <td>0.384033</td>\n",
       "    </tr>\n",
       "    <tr>\n",
       "      <th>2013-01-04</th>\n",
       "      <td>0.727648</td>\n",
       "      <td>0.420577</td>\n",
       "      <td>0.386597</td>\n",
       "      <td>0.487347</td>\n",
       "    </tr>\n",
       "    <tr>\n",
       "      <th>2013-01-05</th>\n",
       "      <td>0.553077</td>\n",
       "      <td>0.663846</td>\n",
       "      <td>0.281396</td>\n",
       "      <td>0.464055</td>\n",
       "    </tr>\n",
       "    <tr>\n",
       "      <th>2013-01-06</th>\n",
       "      <td>0.123874</td>\n",
       "      <td>0.498903</td>\n",
       "      <td>0.046609</td>\n",
       "      <td>0.876010</td>\n",
       "    </tr>\n",
       "  </tbody>\n",
       "</table>\n",
       "</div>"
      ],
      "text/plain": [
       "                   A         B         C         D\n",
       "2013-01-02  0.939781  0.723002  0.000828  0.889367\n",
       "2013-01-03  0.918302  0.127217  0.700967  0.384033\n",
       "2013-01-04  0.727648  0.420577  0.386597  0.487347\n",
       "2013-01-05  0.553077  0.663846  0.281396  0.464055\n",
       "2013-01-06  0.123874  0.498903  0.046609  0.876010"
      ]
     },
     "execution_count": 20,
     "metadata": {},
     "output_type": "execute_result"
    }
   ],
   "source": [
    "df.tail()"
   ]
  },
  {
   "cell_type": "code",
   "execution_count": 21,
   "id": "9323392d-8edf-4fae-ba6c-cf6ed9f24f8a",
   "metadata": {},
   "outputs": [
    {
     "data": {
      "text/plain": [
       "DatetimeIndex(['2013-01-01', '2013-01-02', '2013-01-03', '2013-01-04',\n",
       "               '2013-01-05', '2013-01-06'],\n",
       "              dtype='datetime64[ns]', freq='D')"
      ]
     },
     "execution_count": 21,
     "metadata": {},
     "output_type": "execute_result"
    }
   ],
   "source": [
    "df.index"
   ]
  },
  {
   "cell_type": "code",
   "execution_count": 22,
   "id": "2ca815aa-89ab-409f-acec-05ca33aab66e",
   "metadata": {},
   "outputs": [
    {
     "data": {
      "text/plain": [
       "Index([0, 1, 2, 3], dtype='int64')"
      ]
     },
     "execution_count": 22,
     "metadata": {},
     "output_type": "execute_result"
    }
   ],
   "source": [
    "df2.index"
   ]
  },
  {
   "cell_type": "code",
   "execution_count": 23,
   "id": "b54c5ae4-b40e-43ed-9331-e09bfa65de17",
   "metadata": {},
   "outputs": [
    {
     "data": {
      "text/html": [
       "<div>\n",
       "<style scoped>\n",
       "    .dataframe tbody tr th:only-of-type {\n",
       "        vertical-align: middle;\n",
       "    }\n",
       "\n",
       "    .dataframe tbody tr th {\n",
       "        vertical-align: top;\n",
       "    }\n",
       "\n",
       "    .dataframe thead th {\n",
       "        text-align: right;\n",
       "    }\n",
       "</style>\n",
       "<table border=\"1\" class=\"dataframe\">\n",
       "  <thead>\n",
       "    <tr style=\"text-align: right;\">\n",
       "      <th></th>\n",
       "      <th>A</th>\n",
       "      <th>B</th>\n",
       "      <th>C</th>\n",
       "      <th>D</th>\n",
       "    </tr>\n",
       "  </thead>\n",
       "  <tbody>\n",
       "    <tr>\n",
       "      <th>2013-01-01</th>\n",
       "      <td>0.501461</td>\n",
       "      <td>0.130345</td>\n",
       "      <td>0.229421</td>\n",
       "      <td>0.465291</td>\n",
       "    </tr>\n",
       "    <tr>\n",
       "      <th>2013-01-02</th>\n",
       "      <td>0.939781</td>\n",
       "      <td>0.723002</td>\n",
       "      <td>0.000828</td>\n",
       "      <td>0.889367</td>\n",
       "    </tr>\n",
       "    <tr>\n",
       "      <th>2013-01-03</th>\n",
       "      <td>0.918302</td>\n",
       "      <td>0.127217</td>\n",
       "      <td>0.700967</td>\n",
       "      <td>0.384033</td>\n",
       "    </tr>\n",
       "    <tr>\n",
       "      <th>2013-01-04</th>\n",
       "      <td>0.727648</td>\n",
       "      <td>0.420577</td>\n",
       "      <td>0.386597</td>\n",
       "      <td>0.487347</td>\n",
       "    </tr>\n",
       "    <tr>\n",
       "      <th>2013-01-05</th>\n",
       "      <td>0.553077</td>\n",
       "      <td>0.663846</td>\n",
       "      <td>0.281396</td>\n",
       "      <td>0.464055</td>\n",
       "    </tr>\n",
       "    <tr>\n",
       "      <th>2013-01-06</th>\n",
       "      <td>0.123874</td>\n",
       "      <td>0.498903</td>\n",
       "      <td>0.046609</td>\n",
       "      <td>0.876010</td>\n",
       "    </tr>\n",
       "  </tbody>\n",
       "</table>\n",
       "</div>"
      ],
      "text/plain": [
       "                   A         B         C         D\n",
       "2013-01-01  0.501461  0.130345  0.229421  0.465291\n",
       "2013-01-02  0.939781  0.723002  0.000828  0.889367\n",
       "2013-01-03  0.918302  0.127217  0.700967  0.384033\n",
       "2013-01-04  0.727648  0.420577  0.386597  0.487347\n",
       "2013-01-05  0.553077  0.663846  0.281396  0.464055\n",
       "2013-01-06  0.123874  0.498903  0.046609  0.876010"
      ]
     },
     "execution_count": 23,
     "metadata": {},
     "output_type": "execute_result"
    }
   ],
   "source": [
    "df"
   ]
  },
  {
   "cell_type": "code",
   "execution_count": 24,
   "id": "32f29f8e-e939-44cf-a51f-03f9958f9f29",
   "metadata": {},
   "outputs": [
    {
     "data": {
      "text/html": [
       "<div>\n",
       "<style scoped>\n",
       "    .dataframe tbody tr th:only-of-type {\n",
       "        vertical-align: middle;\n",
       "    }\n",
       "\n",
       "    .dataframe tbody tr th {\n",
       "        vertical-align: top;\n",
       "    }\n",
       "\n",
       "    .dataframe thead th {\n",
       "        text-align: right;\n",
       "    }\n",
       "</style>\n",
       "<table border=\"1\" class=\"dataframe\">\n",
       "  <thead>\n",
       "    <tr style=\"text-align: right;\">\n",
       "      <th></th>\n",
       "      <th>A</th>\n",
       "      <th>B</th>\n",
       "      <th>C</th>\n",
       "      <th>D</th>\n",
       "    </tr>\n",
       "  </thead>\n",
       "  <tbody>\n",
       "    <tr>\n",
       "      <th>count</th>\n",
       "      <td>6.000000</td>\n",
       "      <td>6.000000</td>\n",
       "      <td>6.000000</td>\n",
       "      <td>6.000000</td>\n",
       "    </tr>\n",
       "    <tr>\n",
       "      <th>mean</th>\n",
       "      <td>0.627357</td>\n",
       "      <td>0.427315</td>\n",
       "      <td>0.274303</td>\n",
       "      <td>0.594351</td>\n",
       "    </tr>\n",
       "    <tr>\n",
       "      <th>std</th>\n",
       "      <td>0.305672</td>\n",
       "      <td>0.255655</td>\n",
       "      <td>0.254303</td>\n",
       "      <td>0.226134</td>\n",
       "    </tr>\n",
       "    <tr>\n",
       "      <th>min</th>\n",
       "      <td>0.123874</td>\n",
       "      <td>0.127217</td>\n",
       "      <td>0.000828</td>\n",
       "      <td>0.384033</td>\n",
       "    </tr>\n",
       "    <tr>\n",
       "      <th>25%</th>\n",
       "      <td>0.514365</td>\n",
       "      <td>0.202903</td>\n",
       "      <td>0.092312</td>\n",
       "      <td>0.464364</td>\n",
       "    </tr>\n",
       "    <tr>\n",
       "      <th>50%</th>\n",
       "      <td>0.640363</td>\n",
       "      <td>0.459740</td>\n",
       "      <td>0.255408</td>\n",
       "      <td>0.476319</td>\n",
       "    </tr>\n",
       "    <tr>\n",
       "      <th>75%</th>\n",
       "      <td>0.870639</td>\n",
       "      <td>0.622610</td>\n",
       "      <td>0.360297</td>\n",
       "      <td>0.778844</td>\n",
       "    </tr>\n",
       "    <tr>\n",
       "      <th>max</th>\n",
       "      <td>0.939781</td>\n",
       "      <td>0.723002</td>\n",
       "      <td>0.700967</td>\n",
       "      <td>0.889367</td>\n",
       "    </tr>\n",
       "  </tbody>\n",
       "</table>\n",
       "</div>"
      ],
      "text/plain": [
       "              A         B         C         D\n",
       "count  6.000000  6.000000  6.000000  6.000000\n",
       "mean   0.627357  0.427315  0.274303  0.594351\n",
       "std    0.305672  0.255655  0.254303  0.226134\n",
       "min    0.123874  0.127217  0.000828  0.384033\n",
       "25%    0.514365  0.202903  0.092312  0.464364\n",
       "50%    0.640363  0.459740  0.255408  0.476319\n",
       "75%    0.870639  0.622610  0.360297  0.778844\n",
       "max    0.939781  0.723002  0.700967  0.889367"
      ]
     },
     "execution_count": 24,
     "metadata": {},
     "output_type": "execute_result"
    }
   ],
   "source": [
    "df.describe()"
   ]
  },
  {
   "cell_type": "code",
   "execution_count": 25,
   "id": "cffdfa65-1f18-4897-ab00-1eb9c74cc08e",
   "metadata": {},
   "outputs": [
    {
     "data": {
      "text/html": [
       "<div>\n",
       "<style scoped>\n",
       "    .dataframe tbody tr th:only-of-type {\n",
       "        vertical-align: middle;\n",
       "    }\n",
       "\n",
       "    .dataframe tbody tr th {\n",
       "        vertical-align: top;\n",
       "    }\n",
       "\n",
       "    .dataframe thead th {\n",
       "        text-align: right;\n",
       "    }\n",
       "</style>\n",
       "<table border=\"1\" class=\"dataframe\">\n",
       "  <thead>\n",
       "    <tr style=\"text-align: right;\">\n",
       "      <th></th>\n",
       "      <th>A</th>\n",
       "      <th>B</th>\n",
       "      <th>C</th>\n",
       "      <th>D</th>\n",
       "    </tr>\n",
       "  </thead>\n",
       "  <tbody>\n",
       "    <tr>\n",
       "      <th>2013-01-03</th>\n",
       "      <td>0.918302</td>\n",
       "      <td>0.127217</td>\n",
       "      <td>0.700967</td>\n",
       "      <td>0.384033</td>\n",
       "    </tr>\n",
       "    <tr>\n",
       "      <th>2013-01-01</th>\n",
       "      <td>0.501461</td>\n",
       "      <td>0.130345</td>\n",
       "      <td>0.229421</td>\n",
       "      <td>0.465291</td>\n",
       "    </tr>\n",
       "    <tr>\n",
       "      <th>2013-01-04</th>\n",
       "      <td>0.727648</td>\n",
       "      <td>0.420577</td>\n",
       "      <td>0.386597</td>\n",
       "      <td>0.487347</td>\n",
       "    </tr>\n",
       "    <tr>\n",
       "      <th>2013-01-06</th>\n",
       "      <td>0.123874</td>\n",
       "      <td>0.498903</td>\n",
       "      <td>0.046609</td>\n",
       "      <td>0.876010</td>\n",
       "    </tr>\n",
       "    <tr>\n",
       "      <th>2013-01-05</th>\n",
       "      <td>0.553077</td>\n",
       "      <td>0.663846</td>\n",
       "      <td>0.281396</td>\n",
       "      <td>0.464055</td>\n",
       "    </tr>\n",
       "    <tr>\n",
       "      <th>2013-01-02</th>\n",
       "      <td>0.939781</td>\n",
       "      <td>0.723002</td>\n",
       "      <td>0.000828</td>\n",
       "      <td>0.889367</td>\n",
       "    </tr>\n",
       "  </tbody>\n",
       "</table>\n",
       "</div>"
      ],
      "text/plain": [
       "                   A         B         C         D\n",
       "2013-01-03  0.918302  0.127217  0.700967  0.384033\n",
       "2013-01-01  0.501461  0.130345  0.229421  0.465291\n",
       "2013-01-04  0.727648  0.420577  0.386597  0.487347\n",
       "2013-01-06  0.123874  0.498903  0.046609  0.876010\n",
       "2013-01-05  0.553077  0.663846  0.281396  0.464055\n",
       "2013-01-02  0.939781  0.723002  0.000828  0.889367"
      ]
     },
     "execution_count": 25,
     "metadata": {},
     "output_type": "execute_result"
    }
   ],
   "source": [
    "df.sort_values(by='B')"
   ]
  },
  {
   "cell_type": "code",
   "execution_count": 26,
   "id": "7e35f949-1c80-4766-967c-8ab74c5698c0",
   "metadata": {},
   "outputs": [
    {
     "data": {
      "text/html": [
       "<div>\n",
       "<style scoped>\n",
       "    .dataframe tbody tr th:only-of-type {\n",
       "        vertical-align: middle;\n",
       "    }\n",
       "\n",
       "    .dataframe tbody tr th {\n",
       "        vertical-align: top;\n",
       "    }\n",
       "\n",
       "    .dataframe thead th {\n",
       "        text-align: right;\n",
       "    }\n",
       "</style>\n",
       "<table border=\"1\" class=\"dataframe\">\n",
       "  <thead>\n",
       "    <tr style=\"text-align: right;\">\n",
       "      <th></th>\n",
       "      <th>A</th>\n",
       "      <th>B</th>\n",
       "      <th>C</th>\n",
       "      <th>D</th>\n",
       "    </tr>\n",
       "  </thead>\n",
       "  <tbody>\n",
       "    <tr>\n",
       "      <th>2013-01-02</th>\n",
       "      <td>0.939781</td>\n",
       "      <td>0.723002</td>\n",
       "      <td>0.000828</td>\n",
       "      <td>0.889367</td>\n",
       "    </tr>\n",
       "    <tr>\n",
       "      <th>2013-01-05</th>\n",
       "      <td>0.553077</td>\n",
       "      <td>0.663846</td>\n",
       "      <td>0.281396</td>\n",
       "      <td>0.464055</td>\n",
       "    </tr>\n",
       "    <tr>\n",
       "      <th>2013-01-06</th>\n",
       "      <td>0.123874</td>\n",
       "      <td>0.498903</td>\n",
       "      <td>0.046609</td>\n",
       "      <td>0.876010</td>\n",
       "    </tr>\n",
       "    <tr>\n",
       "      <th>2013-01-04</th>\n",
       "      <td>0.727648</td>\n",
       "      <td>0.420577</td>\n",
       "      <td>0.386597</td>\n",
       "      <td>0.487347</td>\n",
       "    </tr>\n",
       "    <tr>\n",
       "      <th>2013-01-01</th>\n",
       "      <td>0.501461</td>\n",
       "      <td>0.130345</td>\n",
       "      <td>0.229421</td>\n",
       "      <td>0.465291</td>\n",
       "    </tr>\n",
       "    <tr>\n",
       "      <th>2013-01-03</th>\n",
       "      <td>0.918302</td>\n",
       "      <td>0.127217</td>\n",
       "      <td>0.700967</td>\n",
       "      <td>0.384033</td>\n",
       "    </tr>\n",
       "  </tbody>\n",
       "</table>\n",
       "</div>"
      ],
      "text/plain": [
       "                   A         B         C         D\n",
       "2013-01-02  0.939781  0.723002  0.000828  0.889367\n",
       "2013-01-05  0.553077  0.663846  0.281396  0.464055\n",
       "2013-01-06  0.123874  0.498903  0.046609  0.876010\n",
       "2013-01-04  0.727648  0.420577  0.386597  0.487347\n",
       "2013-01-01  0.501461  0.130345  0.229421  0.465291\n",
       "2013-01-03  0.918302  0.127217  0.700967  0.384033"
      ]
     },
     "execution_count": 26,
     "metadata": {},
     "output_type": "execute_result"
    }
   ],
   "source": [
    "df.sort_values(by='B', ascending=False)"
   ]
  },
  {
   "cell_type": "markdown",
   "id": "32f03102-8af8-4be4-a05e-40585e2948b5",
   "metadata": {},
   "source": [
    "## selection"
   ]
  },
  {
   "cell_type": "code",
   "execution_count": 27,
   "id": "67a1828f-b987-40e5-a477-f0f1b921379d",
   "metadata": {},
   "outputs": [
    {
     "data": {
      "text/plain": [
       "2013-01-01    0.229421\n",
       "2013-01-02    0.000828\n",
       "2013-01-03    0.700967\n",
       "2013-01-04    0.386597\n",
       "2013-01-05    0.281396\n",
       "2013-01-06    0.046609\n",
       "Freq: D, Name: C, dtype: float64"
      ]
     },
     "execution_count": 27,
     "metadata": {},
     "output_type": "execute_result"
    }
   ],
   "source": [
    "df['C']"
   ]
  },
  {
   "cell_type": "code",
   "execution_count": 28,
   "id": "930de247-bcb7-4955-9bab-9881f49bdacc",
   "metadata": {},
   "outputs": [
    {
     "data": {
      "text/html": [
       "<div>\n",
       "<style scoped>\n",
       "    .dataframe tbody tr th:only-of-type {\n",
       "        vertical-align: middle;\n",
       "    }\n",
       "\n",
       "    .dataframe tbody tr th {\n",
       "        vertical-align: top;\n",
       "    }\n",
       "\n",
       "    .dataframe thead th {\n",
       "        text-align: right;\n",
       "    }\n",
       "</style>\n",
       "<table border=\"1\" class=\"dataframe\">\n",
       "  <thead>\n",
       "    <tr style=\"text-align: right;\">\n",
       "      <th></th>\n",
       "      <th>C</th>\n",
       "      <th>D</th>\n",
       "    </tr>\n",
       "  </thead>\n",
       "  <tbody>\n",
       "    <tr>\n",
       "      <th>2013-01-01</th>\n",
       "      <td>0.229421</td>\n",
       "      <td>0.465291</td>\n",
       "    </tr>\n",
       "    <tr>\n",
       "      <th>2013-01-02</th>\n",
       "      <td>0.000828</td>\n",
       "      <td>0.889367</td>\n",
       "    </tr>\n",
       "    <tr>\n",
       "      <th>2013-01-03</th>\n",
       "      <td>0.700967</td>\n",
       "      <td>0.384033</td>\n",
       "    </tr>\n",
       "    <tr>\n",
       "      <th>2013-01-04</th>\n",
       "      <td>0.386597</td>\n",
       "      <td>0.487347</td>\n",
       "    </tr>\n",
       "    <tr>\n",
       "      <th>2013-01-05</th>\n",
       "      <td>0.281396</td>\n",
       "      <td>0.464055</td>\n",
       "    </tr>\n",
       "    <tr>\n",
       "      <th>2013-01-06</th>\n",
       "      <td>0.046609</td>\n",
       "      <td>0.876010</td>\n",
       "    </tr>\n",
       "  </tbody>\n",
       "</table>\n",
       "</div>"
      ],
      "text/plain": [
       "                   C         D\n",
       "2013-01-01  0.229421  0.465291\n",
       "2013-01-02  0.000828  0.889367\n",
       "2013-01-03  0.700967  0.384033\n",
       "2013-01-04  0.386597  0.487347\n",
       "2013-01-05  0.281396  0.464055\n",
       "2013-01-06  0.046609  0.876010"
      ]
     },
     "execution_count": 28,
     "metadata": {},
     "output_type": "execute_result"
    }
   ],
   "source": [
    "df[['C', 'D']]"
   ]
  },
  {
   "cell_type": "code",
   "execution_count": 29,
   "id": "82c27bcc-e727-4b2b-9462-fb972590041f",
   "metadata": {},
   "outputs": [
    {
     "data": {
      "text/html": [
       "<div>\n",
       "<style scoped>\n",
       "    .dataframe tbody tr th:only-of-type {\n",
       "        vertical-align: middle;\n",
       "    }\n",
       "\n",
       "    .dataframe tbody tr th {\n",
       "        vertical-align: top;\n",
       "    }\n",
       "\n",
       "    .dataframe thead th {\n",
       "        text-align: right;\n",
       "    }\n",
       "</style>\n",
       "<table border=\"1\" class=\"dataframe\">\n",
       "  <thead>\n",
       "    <tr style=\"text-align: right;\">\n",
       "      <th></th>\n",
       "      <th>D</th>\n",
       "      <th>C</th>\n",
       "    </tr>\n",
       "  </thead>\n",
       "  <tbody>\n",
       "    <tr>\n",
       "      <th>2013-01-01</th>\n",
       "      <td>0.465291</td>\n",
       "      <td>0.229421</td>\n",
       "    </tr>\n",
       "    <tr>\n",
       "      <th>2013-01-02</th>\n",
       "      <td>0.889367</td>\n",
       "      <td>0.000828</td>\n",
       "    </tr>\n",
       "    <tr>\n",
       "      <th>2013-01-03</th>\n",
       "      <td>0.384033</td>\n",
       "      <td>0.700967</td>\n",
       "    </tr>\n",
       "    <tr>\n",
       "      <th>2013-01-04</th>\n",
       "      <td>0.487347</td>\n",
       "      <td>0.386597</td>\n",
       "    </tr>\n",
       "    <tr>\n",
       "      <th>2013-01-05</th>\n",
       "      <td>0.464055</td>\n",
       "      <td>0.281396</td>\n",
       "    </tr>\n",
       "    <tr>\n",
       "      <th>2013-01-06</th>\n",
       "      <td>0.876010</td>\n",
       "      <td>0.046609</td>\n",
       "    </tr>\n",
       "  </tbody>\n",
       "</table>\n",
       "</div>"
      ],
      "text/plain": [
       "                   D         C\n",
       "2013-01-01  0.465291  0.229421\n",
       "2013-01-02  0.889367  0.000828\n",
       "2013-01-03  0.384033  0.700967\n",
       "2013-01-04  0.487347  0.386597\n",
       "2013-01-05  0.464055  0.281396\n",
       "2013-01-06  0.876010  0.046609"
      ]
     },
     "execution_count": 29,
     "metadata": {},
     "output_type": "execute_result"
    }
   ],
   "source": [
    "df[['D', 'C']]"
   ]
  },
  {
   "cell_type": "code",
   "execution_count": 30,
   "id": "4a4b2517-2428-461b-a57d-c9cebff2f674",
   "metadata": {},
   "outputs": [
    {
     "data": {
      "text/html": [
       "<div>\n",
       "<style scoped>\n",
       "    .dataframe tbody tr th:only-of-type {\n",
       "        vertical-align: middle;\n",
       "    }\n",
       "\n",
       "    .dataframe tbody tr th {\n",
       "        vertical-align: top;\n",
       "    }\n",
       "\n",
       "    .dataframe thead th {\n",
       "        text-align: right;\n",
       "    }\n",
       "</style>\n",
       "<table border=\"1\" class=\"dataframe\">\n",
       "  <thead>\n",
       "    <tr style=\"text-align: right;\">\n",
       "      <th></th>\n",
       "      <th>A</th>\n",
       "      <th>B</th>\n",
       "      <th>C</th>\n",
       "      <th>D</th>\n",
       "    </tr>\n",
       "  </thead>\n",
       "  <tbody>\n",
       "    <tr>\n",
       "      <th>2013-01-01</th>\n",
       "      <td>0.501461</td>\n",
       "      <td>0.130345</td>\n",
       "      <td>0.229421</td>\n",
       "      <td>0.465291</td>\n",
       "    </tr>\n",
       "    <tr>\n",
       "      <th>2013-01-02</th>\n",
       "      <td>0.939781</td>\n",
       "      <td>0.723002</td>\n",
       "      <td>0.000828</td>\n",
       "      <td>0.889367</td>\n",
       "    </tr>\n",
       "    <tr>\n",
       "      <th>2013-01-03</th>\n",
       "      <td>0.918302</td>\n",
       "      <td>0.127217</td>\n",
       "      <td>0.700967</td>\n",
       "      <td>0.384033</td>\n",
       "    </tr>\n",
       "    <tr>\n",
       "      <th>2013-01-04</th>\n",
       "      <td>0.727648</td>\n",
       "      <td>0.420577</td>\n",
       "      <td>0.386597</td>\n",
       "      <td>0.487347</td>\n",
       "    </tr>\n",
       "    <tr>\n",
       "      <th>2013-01-05</th>\n",
       "      <td>0.553077</td>\n",
       "      <td>0.663846</td>\n",
       "      <td>0.281396</td>\n",
       "      <td>0.464055</td>\n",
       "    </tr>\n",
       "    <tr>\n",
       "      <th>2013-01-06</th>\n",
       "      <td>0.123874</td>\n",
       "      <td>0.498903</td>\n",
       "      <td>0.046609</td>\n",
       "      <td>0.876010</td>\n",
       "    </tr>\n",
       "  </tbody>\n",
       "</table>\n",
       "</div>"
      ],
      "text/plain": [
       "                   A         B         C         D\n",
       "2013-01-01  0.501461  0.130345  0.229421  0.465291\n",
       "2013-01-02  0.939781  0.723002  0.000828  0.889367\n",
       "2013-01-03  0.918302  0.127217  0.700967  0.384033\n",
       "2013-01-04  0.727648  0.420577  0.386597  0.487347\n",
       "2013-01-05  0.553077  0.663846  0.281396  0.464055\n",
       "2013-01-06  0.123874  0.498903  0.046609  0.876010"
      ]
     },
     "execution_count": 30,
     "metadata": {},
     "output_type": "execute_result"
    }
   ],
   "source": [
    "df"
   ]
  },
  {
   "cell_type": "code",
   "execution_count": 32,
   "id": "9450a871-ffcd-47cd-a91c-12bb57eb75bc",
   "metadata": {},
   "outputs": [
    {
     "data": {
      "text/html": [
       "<div>\n",
       "<style scoped>\n",
       "    .dataframe tbody tr th:only-of-type {\n",
       "        vertical-align: middle;\n",
       "    }\n",
       "\n",
       "    .dataframe tbody tr th {\n",
       "        vertical-align: top;\n",
       "    }\n",
       "\n",
       "    .dataframe thead th {\n",
       "        text-align: right;\n",
       "    }\n",
       "</style>\n",
       "<table border=\"1\" class=\"dataframe\">\n",
       "  <thead>\n",
       "    <tr style=\"text-align: right;\">\n",
       "      <th></th>\n",
       "      <th>A</th>\n",
       "      <th>B</th>\n",
       "      <th>C</th>\n",
       "      <th>D</th>\n",
       "    </tr>\n",
       "  </thead>\n",
       "  <tbody>\n",
       "    <tr>\n",
       "      <th>2013-01-01</th>\n",
       "      <td>0.501461</td>\n",
       "      <td>0.130345</td>\n",
       "      <td>0.229421</td>\n",
       "      <td>0.465291</td>\n",
       "    </tr>\n",
       "    <tr>\n",
       "      <th>2013-01-02</th>\n",
       "      <td>0.939781</td>\n",
       "      <td>0.723002</td>\n",
       "      <td>0.000828</td>\n",
       "      <td>0.889367</td>\n",
       "    </tr>\n",
       "    <tr>\n",
       "      <th>2013-01-03</th>\n",
       "      <td>0.918302</td>\n",
       "      <td>0.127217</td>\n",
       "      <td>0.700967</td>\n",
       "      <td>0.384033</td>\n",
       "    </tr>\n",
       "  </tbody>\n",
       "</table>\n",
       "</div>"
      ],
      "text/plain": [
       "                   A         B         C         D\n",
       "2013-01-01  0.501461  0.130345  0.229421  0.465291\n",
       "2013-01-02  0.939781  0.723002  0.000828  0.889367\n",
       "2013-01-03  0.918302  0.127217  0.700967  0.384033"
      ]
     },
     "execution_count": 32,
     "metadata": {},
     "output_type": "execute_result"
    }
   ],
   "source": [
    "df[0:3] # selection by location"
   ]
  },
  {
   "cell_type": "code",
   "execution_count": 33,
   "id": "151d7f1a-add2-43dc-b343-6ab0dec93fa2",
   "metadata": {},
   "outputs": [
    {
     "data": {
      "text/html": [
       "<div>\n",
       "<style scoped>\n",
       "    .dataframe tbody tr th:only-of-type {\n",
       "        vertical-align: middle;\n",
       "    }\n",
       "\n",
       "    .dataframe tbody tr th {\n",
       "        vertical-align: top;\n",
       "    }\n",
       "\n",
       "    .dataframe thead th {\n",
       "        text-align: right;\n",
       "    }\n",
       "</style>\n",
       "<table border=\"1\" class=\"dataframe\">\n",
       "  <thead>\n",
       "    <tr style=\"text-align: right;\">\n",
       "      <th></th>\n",
       "      <th>A</th>\n",
       "      <th>C</th>\n",
       "    </tr>\n",
       "  </thead>\n",
       "  <tbody>\n",
       "    <tr>\n",
       "      <th>2013-01-01</th>\n",
       "      <td>0.501461</td>\n",
       "      <td>0.229421</td>\n",
       "    </tr>\n",
       "    <tr>\n",
       "      <th>2013-01-02</th>\n",
       "      <td>0.939781</td>\n",
       "      <td>0.000828</td>\n",
       "    </tr>\n",
       "    <tr>\n",
       "      <th>2013-01-03</th>\n",
       "      <td>0.918302</td>\n",
       "      <td>0.700967</td>\n",
       "    </tr>\n",
       "    <tr>\n",
       "      <th>2013-01-04</th>\n",
       "      <td>0.727648</td>\n",
       "      <td>0.386597</td>\n",
       "    </tr>\n",
       "    <tr>\n",
       "      <th>2013-01-05</th>\n",
       "      <td>0.553077</td>\n",
       "      <td>0.281396</td>\n",
       "    </tr>\n",
       "    <tr>\n",
       "      <th>2013-01-06</th>\n",
       "      <td>0.123874</td>\n",
       "      <td>0.046609</td>\n",
       "    </tr>\n",
       "  </tbody>\n",
       "</table>\n",
       "</div>"
      ],
      "text/plain": [
       "                   A         C\n",
       "2013-01-01  0.501461  0.229421\n",
       "2013-01-02  0.939781  0.000828\n",
       "2013-01-03  0.918302  0.700967\n",
       "2013-01-04  0.727648  0.386597\n",
       "2013-01-05  0.553077  0.281396\n",
       "2013-01-06  0.123874  0.046609"
      ]
     },
     "execution_count": 33,
     "metadata": {},
     "output_type": "execute_result"
    }
   ],
   "source": [
    "# select by label\n",
    "df.loc[:, ['A', 'C']]"
   ]
  },
  {
   "cell_type": "code",
   "execution_count": 34,
   "id": "a16162b4-91ba-4b43-8cca-efe841f03613",
   "metadata": {},
   "outputs": [
    {
     "data": {
      "text/plain": [
       "A    0.501461\n",
       "B    0.130345\n",
       "C    0.229421\n",
       "D    0.465291\n",
       "Name: 2013-01-01 00:00:00, dtype: float64"
      ]
     },
     "execution_count": 34,
     "metadata": {},
     "output_type": "execute_result"
    }
   ],
   "source": [
    "df.loc[dates[0]] # return the records that match the first datestam"
   ]
  },
  {
   "cell_type": "code",
   "execution_count": 35,
   "id": "52a2f019-8d98-4516-8d3b-53122aa23c88",
   "metadata": {},
   "outputs": [
    {
     "data": {
      "text/plain": [
       "Timestamp('2013-01-01 00:00:00')"
      ]
     },
     "execution_count": 35,
     "metadata": {},
     "output_type": "execute_result"
    }
   ],
   "source": [
    "dates[0]"
   ]
  },
  {
   "cell_type": "code",
   "execution_count": 36,
   "id": "4d23ecd5-2cd6-4d16-af0b-777fa038806e",
   "metadata": {},
   "outputs": [
    {
     "data": {
      "text/plain": [
       "pandas.core.indexes.datetimes.DatetimeIndex"
      ]
     },
     "execution_count": 36,
     "metadata": {},
     "output_type": "execute_result"
    }
   ],
   "source": [
    "type(dates)"
   ]
  },
  {
   "cell_type": "code",
   "execution_count": 37,
   "id": "de9652b2-925d-4795-9259-3f9d7871937a",
   "metadata": {},
   "outputs": [
    {
     "data": {
      "text/plain": [
       "A    0.501461\n",
       "C    0.229421\n",
       "Name: 2013-01-01 00:00:00, dtype: float64"
      ]
     },
     "execution_count": 37,
     "metadata": {},
     "output_type": "execute_result"
    }
   ],
   "source": [
    "df.loc[dates[0], ['A','C']]"
   ]
  },
  {
   "cell_type": "markdown",
   "id": "5ec04f1c-2377-4820-9dbd-2337072e38af",
   "metadata": {},
   "source": [
    "## Boolean indexing"
   ]
  },
  {
   "cell_type": "code",
   "execution_count": 38,
   "id": "d76a62a5-2fe2-47c7-84f2-a8377f945a72",
   "metadata": {},
   "outputs": [
    {
     "data": {
      "text/html": [
       "<div>\n",
       "<style scoped>\n",
       "    .dataframe tbody tr th:only-of-type {\n",
       "        vertical-align: middle;\n",
       "    }\n",
       "\n",
       "    .dataframe tbody tr th {\n",
       "        vertical-align: top;\n",
       "    }\n",
       "\n",
       "    .dataframe thead th {\n",
       "        text-align: right;\n",
       "    }\n",
       "</style>\n",
       "<table border=\"1\" class=\"dataframe\">\n",
       "  <thead>\n",
       "    <tr style=\"text-align: right;\">\n",
       "      <th></th>\n",
       "      <th>A</th>\n",
       "      <th>B</th>\n",
       "      <th>C</th>\n",
       "      <th>D</th>\n",
       "    </tr>\n",
       "  </thead>\n",
       "  <tbody>\n",
       "    <tr>\n",
       "      <th>2013-01-01</th>\n",
       "      <td>0.501461</td>\n",
       "      <td>0.130345</td>\n",
       "      <td>0.229421</td>\n",
       "      <td>0.465291</td>\n",
       "    </tr>\n",
       "    <tr>\n",
       "      <th>2013-01-02</th>\n",
       "      <td>0.939781</td>\n",
       "      <td>0.723002</td>\n",
       "      <td>0.000828</td>\n",
       "      <td>0.889367</td>\n",
       "    </tr>\n",
       "    <tr>\n",
       "      <th>2013-01-03</th>\n",
       "      <td>0.918302</td>\n",
       "      <td>0.127217</td>\n",
       "      <td>0.700967</td>\n",
       "      <td>0.384033</td>\n",
       "    </tr>\n",
       "    <tr>\n",
       "      <th>2013-01-04</th>\n",
       "      <td>0.727648</td>\n",
       "      <td>0.420577</td>\n",
       "      <td>0.386597</td>\n",
       "      <td>0.487347</td>\n",
       "    </tr>\n",
       "    <tr>\n",
       "      <th>2013-01-05</th>\n",
       "      <td>0.553077</td>\n",
       "      <td>0.663846</td>\n",
       "      <td>0.281396</td>\n",
       "      <td>0.464055</td>\n",
       "    </tr>\n",
       "    <tr>\n",
       "      <th>2013-01-06</th>\n",
       "      <td>0.123874</td>\n",
       "      <td>0.498903</td>\n",
       "      <td>0.046609</td>\n",
       "      <td>0.876010</td>\n",
       "    </tr>\n",
       "  </tbody>\n",
       "</table>\n",
       "</div>"
      ],
      "text/plain": [
       "                   A         B         C         D\n",
       "2013-01-01  0.501461  0.130345  0.229421  0.465291\n",
       "2013-01-02  0.939781  0.723002  0.000828  0.889367\n",
       "2013-01-03  0.918302  0.127217  0.700967  0.384033\n",
       "2013-01-04  0.727648  0.420577  0.386597  0.487347\n",
       "2013-01-05  0.553077  0.663846  0.281396  0.464055\n",
       "2013-01-06  0.123874  0.498903  0.046609  0.876010"
      ]
     },
     "execution_count": 38,
     "metadata": {},
     "output_type": "execute_result"
    }
   ],
   "source": [
    "df"
   ]
  },
  {
   "cell_type": "code",
   "execution_count": 39,
   "id": "ec956fe6-3ae5-4173-aa48-36fcf09db096",
   "metadata": {},
   "outputs": [
    {
     "data": {
      "text/plain": [
       "2013-01-01    0.130345\n",
       "2013-01-02    0.723002\n",
       "2013-01-03    0.127217\n",
       "2013-01-04    0.420577\n",
       "2013-01-05    0.663846\n",
       "2013-01-06    0.498903\n",
       "Freq: D, Name: B, dtype: float64"
      ]
     },
     "execution_count": 39,
     "metadata": {},
     "output_type": "execute_result"
    }
   ],
   "source": [
    "df['B']"
   ]
  },
  {
   "cell_type": "code",
   "execution_count": 40,
   "id": "28dd2205-ba19-4006-9105-5f434b09710b",
   "metadata": {},
   "outputs": [
    {
     "data": {
      "text/plain": [
       "2013-01-01    0.130345\n",
       "2013-01-02    0.723002\n",
       "2013-01-03    0.127217\n",
       "2013-01-04    0.420577\n",
       "2013-01-05    0.663846\n",
       "2013-01-06    0.498903\n",
       "Freq: D, Name: B, dtype: float64"
      ]
     },
     "execution_count": 40,
     "metadata": {},
     "output_type": "execute_result"
    }
   ],
   "source": [
    "df.B"
   ]
  },
  {
   "cell_type": "code",
   "execution_count": 41,
   "id": "5455cc19-b876-401e-b4d6-78a15e07b3fd",
   "metadata": {},
   "outputs": [
    {
     "data": {
      "text/plain": [
       "2013-01-01    False\n",
       "2013-01-02     True\n",
       "2013-01-03    False\n",
       "2013-01-04    False\n",
       "2013-01-05     True\n",
       "2013-01-06    False\n",
       "Freq: D, Name: B, dtype: bool"
      ]
     },
     "execution_count": 41,
     "metadata": {},
     "output_type": "execute_result"
    }
   ],
   "source": [
    "df.B > .5"
   ]
  },
  {
   "cell_type": "code",
   "execution_count": 42,
   "id": "b7055732-d293-4c42-a2f5-dcee1814132a",
   "metadata": {},
   "outputs": [
    {
     "data": {
      "text/html": [
       "<div>\n",
       "<style scoped>\n",
       "    .dataframe tbody tr th:only-of-type {\n",
       "        vertical-align: middle;\n",
       "    }\n",
       "\n",
       "    .dataframe tbody tr th {\n",
       "        vertical-align: top;\n",
       "    }\n",
       "\n",
       "    .dataframe thead th {\n",
       "        text-align: right;\n",
       "    }\n",
       "</style>\n",
       "<table border=\"1\" class=\"dataframe\">\n",
       "  <thead>\n",
       "    <tr style=\"text-align: right;\">\n",
       "      <th></th>\n",
       "      <th>A</th>\n",
       "      <th>B</th>\n",
       "      <th>C</th>\n",
       "      <th>D</th>\n",
       "    </tr>\n",
       "  </thead>\n",
       "  <tbody>\n",
       "    <tr>\n",
       "      <th>2013-01-02</th>\n",
       "      <td>0.939781</td>\n",
       "      <td>0.723002</td>\n",
       "      <td>0.000828</td>\n",
       "      <td>0.889367</td>\n",
       "    </tr>\n",
       "    <tr>\n",
       "      <th>2013-01-05</th>\n",
       "      <td>0.553077</td>\n",
       "      <td>0.663846</td>\n",
       "      <td>0.281396</td>\n",
       "      <td>0.464055</td>\n",
       "    </tr>\n",
       "  </tbody>\n",
       "</table>\n",
       "</div>"
      ],
      "text/plain": [
       "                   A         B         C         D\n",
       "2013-01-02  0.939781  0.723002  0.000828  0.889367\n",
       "2013-01-05  0.553077  0.663846  0.281396  0.464055"
      ]
     },
     "execution_count": 42,
     "metadata": {},
     "output_type": "execute_result"
    }
   ],
   "source": [
    "df[df.B > .5]"
   ]
  },
  {
   "cell_type": "code",
   "execution_count": 43,
   "id": "e71fdd8f-1ab1-420e-b3af-69b060991e4c",
   "metadata": {},
   "outputs": [
    {
     "data": {
      "text/html": [
       "<div>\n",
       "<style scoped>\n",
       "    .dataframe tbody tr th:only-of-type {\n",
       "        vertical-align: middle;\n",
       "    }\n",
       "\n",
       "    .dataframe tbody tr th {\n",
       "        vertical-align: top;\n",
       "    }\n",
       "\n",
       "    .dataframe thead th {\n",
       "        text-align: right;\n",
       "    }\n",
       "</style>\n",
       "<table border=\"1\" class=\"dataframe\">\n",
       "  <thead>\n",
       "    <tr style=\"text-align: right;\">\n",
       "      <th></th>\n",
       "      <th>A</th>\n",
       "      <th>B</th>\n",
       "      <th>C</th>\n",
       "      <th>D</th>\n",
       "    </tr>\n",
       "  </thead>\n",
       "  <tbody>\n",
       "    <tr>\n",
       "      <th>2013-01-01</th>\n",
       "      <td>0.501461</td>\n",
       "      <td>0.130345</td>\n",
       "      <td>0.229421</td>\n",
       "      <td>0.465291</td>\n",
       "    </tr>\n",
       "    <tr>\n",
       "      <th>2013-01-02</th>\n",
       "      <td>0.939781</td>\n",
       "      <td>0.723002</td>\n",
       "      <td>0.000828</td>\n",
       "      <td>0.889367</td>\n",
       "    </tr>\n",
       "    <tr>\n",
       "      <th>2013-01-03</th>\n",
       "      <td>0.918302</td>\n",
       "      <td>0.127217</td>\n",
       "      <td>0.700967</td>\n",
       "      <td>0.384033</td>\n",
       "    </tr>\n",
       "    <tr>\n",
       "      <th>2013-01-04</th>\n",
       "      <td>0.727648</td>\n",
       "      <td>0.420577</td>\n",
       "      <td>0.386597</td>\n",
       "      <td>0.487347</td>\n",
       "    </tr>\n",
       "    <tr>\n",
       "      <th>2013-01-05</th>\n",
       "      <td>0.553077</td>\n",
       "      <td>0.663846</td>\n",
       "      <td>0.281396</td>\n",
       "      <td>0.464055</td>\n",
       "    </tr>\n",
       "    <tr>\n",
       "      <th>2013-01-06</th>\n",
       "      <td>0.123874</td>\n",
       "      <td>0.498903</td>\n",
       "      <td>0.046609</td>\n",
       "      <td>0.876010</td>\n",
       "    </tr>\n",
       "  </tbody>\n",
       "</table>\n",
       "</div>"
      ],
      "text/plain": [
       "                   A         B         C         D\n",
       "2013-01-01  0.501461  0.130345  0.229421  0.465291\n",
       "2013-01-02  0.939781  0.723002  0.000828  0.889367\n",
       "2013-01-03  0.918302  0.127217  0.700967  0.384033\n",
       "2013-01-04  0.727648  0.420577  0.386597  0.487347\n",
       "2013-01-05  0.553077  0.663846  0.281396  0.464055\n",
       "2013-01-06  0.123874  0.498903  0.046609  0.876010"
      ]
     },
     "execution_count": 43,
     "metadata": {},
     "output_type": "execute_result"
    }
   ],
   "source": [
    "df2 = df.copy()\n",
    "df2"
   ]
  },
  {
   "cell_type": "code",
   "execution_count": 44,
   "id": "559cb3bd-93a9-43ee-a210-f69e2683ddf3",
   "metadata": {},
   "outputs": [
    {
     "data": {
      "text/html": [
       "<div>\n",
       "<style scoped>\n",
       "    .dataframe tbody tr th:only-of-type {\n",
       "        vertical-align: middle;\n",
       "    }\n",
       "\n",
       "    .dataframe tbody tr th {\n",
       "        vertical-align: top;\n",
       "    }\n",
       "\n",
       "    .dataframe thead th {\n",
       "        text-align: right;\n",
       "    }\n",
       "</style>\n",
       "<table border=\"1\" class=\"dataframe\">\n",
       "  <thead>\n",
       "    <tr style=\"text-align: right;\">\n",
       "      <th></th>\n",
       "      <th>A</th>\n",
       "      <th>B</th>\n",
       "      <th>C</th>\n",
       "      <th>D</th>\n",
       "      <th>E</th>\n",
       "    </tr>\n",
       "  </thead>\n",
       "  <tbody>\n",
       "    <tr>\n",
       "      <th>2013-01-01</th>\n",
       "      <td>0.501461</td>\n",
       "      <td>0.130345</td>\n",
       "      <td>0.229421</td>\n",
       "      <td>0.465291</td>\n",
       "      <td>one</td>\n",
       "    </tr>\n",
       "    <tr>\n",
       "      <th>2013-01-02</th>\n",
       "      <td>0.939781</td>\n",
       "      <td>0.723002</td>\n",
       "      <td>0.000828</td>\n",
       "      <td>0.889367</td>\n",
       "      <td>one</td>\n",
       "    </tr>\n",
       "    <tr>\n",
       "      <th>2013-01-03</th>\n",
       "      <td>0.918302</td>\n",
       "      <td>0.127217</td>\n",
       "      <td>0.700967</td>\n",
       "      <td>0.384033</td>\n",
       "      <td>two</td>\n",
       "    </tr>\n",
       "    <tr>\n",
       "      <th>2013-01-04</th>\n",
       "      <td>0.727648</td>\n",
       "      <td>0.420577</td>\n",
       "      <td>0.386597</td>\n",
       "      <td>0.487347</td>\n",
       "      <td>three</td>\n",
       "    </tr>\n",
       "    <tr>\n",
       "      <th>2013-01-05</th>\n",
       "      <td>0.553077</td>\n",
       "      <td>0.663846</td>\n",
       "      <td>0.281396</td>\n",
       "      <td>0.464055</td>\n",
       "      <td>four</td>\n",
       "    </tr>\n",
       "    <tr>\n",
       "      <th>2013-01-06</th>\n",
       "      <td>0.123874</td>\n",
       "      <td>0.498903</td>\n",
       "      <td>0.046609</td>\n",
       "      <td>0.876010</td>\n",
       "      <td>three</td>\n",
       "    </tr>\n",
       "  </tbody>\n",
       "</table>\n",
       "</div>"
      ],
      "text/plain": [
       "                   A         B         C         D      E\n",
       "2013-01-01  0.501461  0.130345  0.229421  0.465291    one\n",
       "2013-01-02  0.939781  0.723002  0.000828  0.889367    one\n",
       "2013-01-03  0.918302  0.127217  0.700967  0.384033    two\n",
       "2013-01-04  0.727648  0.420577  0.386597  0.487347  three\n",
       "2013-01-05  0.553077  0.663846  0.281396  0.464055   four\n",
       "2013-01-06  0.123874  0.498903  0.046609  0.876010  three"
      ]
     },
     "execution_count": 44,
     "metadata": {},
     "output_type": "execute_result"
    }
   ],
   "source": [
    "df2['E'] = ['one', 'one', 'two', 'three', 'four', 'three']\n",
    "df2"
   ]
  },
  {
   "cell_type": "code",
   "execution_count": 45,
   "id": "f91c230b-cb69-46a1-a5f0-92feb26c4ac1",
   "metadata": {},
   "outputs": [
    {
     "data": {
      "text/plain": [
       "2013-01-01     True\n",
       "2013-01-02     True\n",
       "2013-01-03     True\n",
       "2013-01-04    False\n",
       "2013-01-05    False\n",
       "2013-01-06    False\n",
       "Freq: D, Name: E, dtype: bool"
      ]
     },
     "execution_count": 45,
     "metadata": {},
     "output_type": "execute_result"
    }
   ],
   "source": [
    "df2['E'].isin([\"one\", \"two\"])"
   ]
  },
  {
   "cell_type": "code",
   "execution_count": 46,
   "id": "3da5b982-0906-45aa-bd0a-4eaf2fb4ae10",
   "metadata": {},
   "outputs": [
    {
     "data": {
      "text/html": [
       "<div>\n",
       "<style scoped>\n",
       "    .dataframe tbody tr th:only-of-type {\n",
       "        vertical-align: middle;\n",
       "    }\n",
       "\n",
       "    .dataframe tbody tr th {\n",
       "        vertical-align: top;\n",
       "    }\n",
       "\n",
       "    .dataframe thead th {\n",
       "        text-align: right;\n",
       "    }\n",
       "</style>\n",
       "<table border=\"1\" class=\"dataframe\">\n",
       "  <thead>\n",
       "    <tr style=\"text-align: right;\">\n",
       "      <th></th>\n",
       "      <th>A</th>\n",
       "      <th>B</th>\n",
       "      <th>C</th>\n",
       "      <th>D</th>\n",
       "      <th>E</th>\n",
       "    </tr>\n",
       "  </thead>\n",
       "  <tbody>\n",
       "    <tr>\n",
       "      <th>2013-01-01</th>\n",
       "      <td>0.501461</td>\n",
       "      <td>0.130345</td>\n",
       "      <td>0.229421</td>\n",
       "      <td>0.465291</td>\n",
       "      <td>one</td>\n",
       "    </tr>\n",
       "    <tr>\n",
       "      <th>2013-01-02</th>\n",
       "      <td>0.939781</td>\n",
       "      <td>0.723002</td>\n",
       "      <td>0.000828</td>\n",
       "      <td>0.889367</td>\n",
       "      <td>one</td>\n",
       "    </tr>\n",
       "    <tr>\n",
       "      <th>2013-01-03</th>\n",
       "      <td>0.918302</td>\n",
       "      <td>0.127217</td>\n",
       "      <td>0.700967</td>\n",
       "      <td>0.384033</td>\n",
       "      <td>two</td>\n",
       "    </tr>\n",
       "  </tbody>\n",
       "</table>\n",
       "</div>"
      ],
      "text/plain": [
       "                   A         B         C         D    E\n",
       "2013-01-01  0.501461  0.130345  0.229421  0.465291  one\n",
       "2013-01-02  0.939781  0.723002  0.000828  0.889367  one\n",
       "2013-01-03  0.918302  0.127217  0.700967  0.384033  two"
      ]
     },
     "execution_count": 46,
     "metadata": {},
     "output_type": "execute_result"
    }
   ],
   "source": [
    "df2[df2['E'].isin([\"one\", \"two\"])]"
   ]
  },
  {
   "cell_type": "code",
   "execution_count": 47,
   "id": "b64de524-63cd-4509-8fee-8cf2971bcef3",
   "metadata": {},
   "outputs": [
    {
     "data": {
      "text/html": [
       "<div>\n",
       "<style scoped>\n",
       "    .dataframe tbody tr th:only-of-type {\n",
       "        vertical-align: middle;\n",
       "    }\n",
       "\n",
       "    .dataframe tbody tr th {\n",
       "        vertical-align: top;\n",
       "    }\n",
       "\n",
       "    .dataframe thead th {\n",
       "        text-align: right;\n",
       "    }\n",
       "</style>\n",
       "<table border=\"1\" class=\"dataframe\">\n",
       "  <thead>\n",
       "    <tr style=\"text-align: right;\">\n",
       "      <th></th>\n",
       "      <th>A</th>\n",
       "      <th>B</th>\n",
       "      <th>C</th>\n",
       "      <th>D</th>\n",
       "      <th>E</th>\n",
       "    </tr>\n",
       "  </thead>\n",
       "  <tbody>\n",
       "    <tr>\n",
       "      <th>2013-01-01</th>\n",
       "      <td>0.501461</td>\n",
       "      <td>0.130345</td>\n",
       "      <td>0.229421</td>\n",
       "      <td>0.465291</td>\n",
       "      <td>one</td>\n",
       "    </tr>\n",
       "    <tr>\n",
       "      <th>2013-01-02</th>\n",
       "      <td>0.939781</td>\n",
       "      <td>0.723002</td>\n",
       "      <td>0.000828</td>\n",
       "      <td>0.889367</td>\n",
       "      <td>one</td>\n",
       "    </tr>\n",
       "    <tr>\n",
       "      <th>2013-01-03</th>\n",
       "      <td>0.918302</td>\n",
       "      <td>0.127217</td>\n",
       "      <td>0.700967</td>\n",
       "      <td>0.384033</td>\n",
       "      <td>two</td>\n",
       "    </tr>\n",
       "    <tr>\n",
       "      <th>2013-01-05</th>\n",
       "      <td>0.553077</td>\n",
       "      <td>0.663846</td>\n",
       "      <td>0.281396</td>\n",
       "      <td>0.464055</td>\n",
       "      <td>four</td>\n",
       "    </tr>\n",
       "  </tbody>\n",
       "</table>\n",
       "</div>"
      ],
      "text/plain": [
       "                   A         B         C         D     E\n",
       "2013-01-01  0.501461  0.130345  0.229421  0.465291   one\n",
       "2013-01-02  0.939781  0.723002  0.000828  0.889367   one\n",
       "2013-01-03  0.918302  0.127217  0.700967  0.384033   two\n",
       "2013-01-05  0.553077  0.663846  0.281396  0.464055  four"
      ]
     },
     "execution_count": 47,
     "metadata": {},
     "output_type": "execute_result"
    }
   ],
   "source": [
    "df2[df2['E'].isin([\"one\", \"two\", 'four'])]"
   ]
  },
  {
   "cell_type": "code",
   "execution_count": 48,
   "id": "e6e8686a-013d-41e1-b278-d72d3710d13f",
   "metadata": {},
   "outputs": [
    {
     "data": {
      "text/html": [
       "<div>\n",
       "<style scoped>\n",
       "    .dataframe tbody tr th:only-of-type {\n",
       "        vertical-align: middle;\n",
       "    }\n",
       "\n",
       "    .dataframe tbody tr th {\n",
       "        vertical-align: top;\n",
       "    }\n",
       "\n",
       "    .dataframe thead th {\n",
       "        text-align: right;\n",
       "    }\n",
       "</style>\n",
       "<table border=\"1\" class=\"dataframe\">\n",
       "  <thead>\n",
       "    <tr style=\"text-align: right;\">\n",
       "      <th></th>\n",
       "      <th>A</th>\n",
       "      <th>B</th>\n",
       "      <th>C</th>\n",
       "      <th>D</th>\n",
       "      <th>E</th>\n",
       "    </tr>\n",
       "  </thead>\n",
       "  <tbody>\n",
       "    <tr>\n",
       "      <th>2013-01-04</th>\n",
       "      <td>0.727648</td>\n",
       "      <td>0.420577</td>\n",
       "      <td>0.386597</td>\n",
       "      <td>0.487347</td>\n",
       "      <td>three</td>\n",
       "    </tr>\n",
       "    <tr>\n",
       "      <th>2013-01-06</th>\n",
       "      <td>0.123874</td>\n",
       "      <td>0.498903</td>\n",
       "      <td>0.046609</td>\n",
       "      <td>0.876010</td>\n",
       "      <td>three</td>\n",
       "    </tr>\n",
       "  </tbody>\n",
       "</table>\n",
       "</div>"
      ],
      "text/plain": [
       "                   A         B         C         D      E\n",
       "2013-01-04  0.727648  0.420577  0.386597  0.487347  three\n",
       "2013-01-06  0.123874  0.498903  0.046609  0.876010  three"
      ]
     },
     "execution_count": 48,
     "metadata": {},
     "output_type": "execute_result"
    }
   ],
   "source": [
    "df2[~df2['E'].isin([\"one\", \"two\", 'four'])]"
   ]
  },
  {
   "cell_type": "markdown",
   "id": "33a2c0aa-1f5f-41be-abdf-a07607697b9b",
   "metadata": {},
   "source": [
    "## Group by"
   ]
  },
  {
   "cell_type": "code",
   "execution_count": 49,
   "id": "54ef5a9f-1899-4cbb-9fb2-ed5681846785",
   "metadata": {},
   "outputs": [
    {
     "data": {
      "text/html": [
       "<div>\n",
       "<style scoped>\n",
       "    .dataframe tbody tr th:only-of-type {\n",
       "        vertical-align: middle;\n",
       "    }\n",
       "\n",
       "    .dataframe tbody tr th {\n",
       "        vertical-align: top;\n",
       "    }\n",
       "\n",
       "    .dataframe thead th {\n",
       "        text-align: right;\n",
       "    }\n",
       "</style>\n",
       "<table border=\"1\" class=\"dataframe\">\n",
       "  <thead>\n",
       "    <tr style=\"text-align: right;\">\n",
       "      <th></th>\n",
       "      <th>A</th>\n",
       "      <th>B</th>\n",
       "      <th>C</th>\n",
       "      <th>D</th>\n",
       "      <th>E</th>\n",
       "    </tr>\n",
       "  </thead>\n",
       "  <tbody>\n",
       "    <tr>\n",
       "      <th>2013-01-01</th>\n",
       "      <td>0.501461</td>\n",
       "      <td>0.130345</td>\n",
       "      <td>0.229421</td>\n",
       "      <td>0.465291</td>\n",
       "      <td>one</td>\n",
       "    </tr>\n",
       "    <tr>\n",
       "      <th>2013-01-02</th>\n",
       "      <td>0.939781</td>\n",
       "      <td>0.723002</td>\n",
       "      <td>0.000828</td>\n",
       "      <td>0.889367</td>\n",
       "      <td>one</td>\n",
       "    </tr>\n",
       "    <tr>\n",
       "      <th>2013-01-03</th>\n",
       "      <td>0.918302</td>\n",
       "      <td>0.127217</td>\n",
       "      <td>0.700967</td>\n",
       "      <td>0.384033</td>\n",
       "      <td>two</td>\n",
       "    </tr>\n",
       "    <tr>\n",
       "      <th>2013-01-04</th>\n",
       "      <td>0.727648</td>\n",
       "      <td>0.420577</td>\n",
       "      <td>0.386597</td>\n",
       "      <td>0.487347</td>\n",
       "      <td>three</td>\n",
       "    </tr>\n",
       "    <tr>\n",
       "      <th>2013-01-05</th>\n",
       "      <td>0.553077</td>\n",
       "      <td>0.663846</td>\n",
       "      <td>0.281396</td>\n",
       "      <td>0.464055</td>\n",
       "      <td>four</td>\n",
       "    </tr>\n",
       "    <tr>\n",
       "      <th>2013-01-06</th>\n",
       "      <td>0.123874</td>\n",
       "      <td>0.498903</td>\n",
       "      <td>0.046609</td>\n",
       "      <td>0.876010</td>\n",
       "      <td>three</td>\n",
       "    </tr>\n",
       "  </tbody>\n",
       "</table>\n",
       "</div>"
      ],
      "text/plain": [
       "                   A         B         C         D      E\n",
       "2013-01-01  0.501461  0.130345  0.229421  0.465291    one\n",
       "2013-01-02  0.939781  0.723002  0.000828  0.889367    one\n",
       "2013-01-03  0.918302  0.127217  0.700967  0.384033    two\n",
       "2013-01-04  0.727648  0.420577  0.386597  0.487347  three\n",
       "2013-01-05  0.553077  0.663846  0.281396  0.464055   four\n",
       "2013-01-06  0.123874  0.498903  0.046609  0.876010  three"
      ]
     },
     "execution_count": 49,
     "metadata": {},
     "output_type": "execute_result"
    }
   ],
   "source": [
    "df2"
   ]
  },
  {
   "cell_type": "code",
   "execution_count": 50,
   "id": "6bf8a075-c141-404d-b9c3-9c77795838c3",
   "metadata": {},
   "outputs": [
    {
     "data": {
      "text/html": [
       "<div>\n",
       "<style scoped>\n",
       "    .dataframe tbody tr th:only-of-type {\n",
       "        vertical-align: middle;\n",
       "    }\n",
       "\n",
       "    .dataframe tbody tr th {\n",
       "        vertical-align: top;\n",
       "    }\n",
       "\n",
       "    .dataframe thead th {\n",
       "        text-align: right;\n",
       "    }\n",
       "</style>\n",
       "<table border=\"1\" class=\"dataframe\">\n",
       "  <thead>\n",
       "    <tr style=\"text-align: right;\">\n",
       "      <th></th>\n",
       "      <th>A</th>\n",
       "      <th>B</th>\n",
       "      <th>C</th>\n",
       "      <th>D</th>\n",
       "    </tr>\n",
       "    <tr>\n",
       "      <th>E</th>\n",
       "      <th></th>\n",
       "      <th></th>\n",
       "      <th></th>\n",
       "      <th></th>\n",
       "    </tr>\n",
       "  </thead>\n",
       "  <tbody>\n",
       "    <tr>\n",
       "      <th>four</th>\n",
       "      <td>1</td>\n",
       "      <td>1</td>\n",
       "      <td>1</td>\n",
       "      <td>1</td>\n",
       "    </tr>\n",
       "    <tr>\n",
       "      <th>one</th>\n",
       "      <td>2</td>\n",
       "      <td>2</td>\n",
       "      <td>2</td>\n",
       "      <td>2</td>\n",
       "    </tr>\n",
       "    <tr>\n",
       "      <th>three</th>\n",
       "      <td>2</td>\n",
       "      <td>2</td>\n",
       "      <td>2</td>\n",
       "      <td>2</td>\n",
       "    </tr>\n",
       "    <tr>\n",
       "      <th>two</th>\n",
       "      <td>1</td>\n",
       "      <td>1</td>\n",
       "      <td>1</td>\n",
       "      <td>1</td>\n",
       "    </tr>\n",
       "  </tbody>\n",
       "</table>\n",
       "</div>"
      ],
      "text/plain": [
       "       A  B  C  D\n",
       "E                \n",
       "four   1  1  1  1\n",
       "one    2  2  2  2\n",
       "three  2  2  2  2\n",
       "two    1  1  1  1"
      ]
     },
     "execution_count": 50,
     "metadata": {},
     "output_type": "execute_result"
    }
   ],
   "source": [
    "df2.groupby(by='E').count()"
   ]
  },
  {
   "cell_type": "markdown",
   "id": "fafdde44-a516-4f5a-85a6-2f1e010b2ccc",
   "metadata": {},
   "source": [
    "## Plotting\n"
   ]
  },
  {
   "cell_type": "code",
   "execution_count": 51,
   "id": "8618e394-9dbc-42d3-855d-4e778c77a9d1",
   "metadata": {},
   "outputs": [],
   "source": [
    "import matplotlib.pyplot as plt"
   ]
  },
  {
   "cell_type": "code",
   "execution_count": 56,
   "id": "ff1c4df1-ff01-4972-ac3f-f408a49b35cd",
   "metadata": {},
   "outputs": [],
   "source": [
    "np.random.seed(123456)"
   ]
  },
  {
   "cell_type": "code",
   "execution_count": 57,
   "id": "9fdaf314-63a7-4218-bc2f-da3c67034edc",
   "metadata": {},
   "outputs": [],
   "source": [
    "ts = pd.Series(np.random.randn(1000), index=pd.date_range(\"1/1/2000\", periods=1000))"
   ]
  },
  {
   "cell_type": "code",
   "execution_count": 58,
   "id": "3801fa55-bbef-4733-affc-4d3154bb5ba5",
   "metadata": {},
   "outputs": [],
   "source": [
    "ts = ts.cumsum()"
   ]
  },
  {
   "cell_type": "code",
   "execution_count": 59,
   "id": "71dc320a-f560-4498-96dc-05dba4537268",
   "metadata": {},
   "outputs": [
    {
     "data": {
      "text/plain": [
       "<Axes: >"
      ]
     },
     "execution_count": 59,
     "metadata": {},
     "output_type": "execute_result"
    },
    {
     "data": {
      "image/png": "[encoded data removed]",
      "text/plain": [
       "<Figure size 640x480 with 1 Axes>"
      ]
     },
     "metadata": {},
     "output_type": "display_data"
    }
   ],
   "source": [
    "ts.plot()"
   ]
  },
  {
   "cell_type": "code",
   "execution_count": null,
   "id": "0115697b-44ef-4eb1-874f-dfe5d520ea7a",
   "metadata": {},
   "outputs": [],
   "source": []
  }
 ],
 "metadata": {
  "kernelspec": {
   "display_name": "Python 3 (ipykernel)",
   "language": "python",
   "name": "python3"
  },
  "language_info": {
   "codemirror_mode": {
    "name": "ipython",
    "version": 3
   },
   "file_extension": ".py",
   "mimetype": "text/x-python",
   "name": "python",
   "nbconvert_exporter": "python",
   "pygments_lexer": "ipython3",
   "version": "3.10.10"
  }
 },
 "nbformat": 4,
 "nbformat_minor": 5
}
