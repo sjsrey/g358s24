{
 "cells": [
  {
   "cell_type": "raw",
   "id": "5916d772-4327-4d36-89d9-a330de122662",
   "metadata": {},
   "source": [
    "---\n",
    "title: Notes on files and directories (Notebook)\n",
    "format:\n",
    "  html:\n",
    "    code-fold: true\n",
    "keep-ipynb: true\n",
    "--- "
   ]
  },
  {
   "cell_type": "markdown",
   "id": "74e62370-5b71-4a74-b4cd-a8a14da914c3",
   "metadata": {},
   "source": [
    "## File and Directory Notes\n",
    "\n",
    "This is a test"
   ]
  },
  {
   "cell_type": "code",
   "execution_count": 2,
   "id": "d60aedc7-8a22-42cd-af15-6d7510bb7884",
   "metadata": {},
   "outputs": [
    {
     "name": "stdout",
     "output_type": "stream",
     "text": [
      "0\n",
      "1\n",
      "4\n",
      "9\n",
      "16\n",
      "25\n",
      "36\n",
      "49\n",
      "64\n",
      "81\n"
     ]
    }
   ],
   "source": [
    "for i in range(10):\n",
    "    print(i*i)"
   ]
  },
  {
   "cell_type": "markdown",
   "id": "cf780b25-b01c-47a7-bb33-9993212760b7",
   "metadata": {},
   "source": [
    "## File Commands\n",
    "\n",
    "- cat\n",
    "- touch"
   ]
  },
  {
   "cell_type": "code",
   "execution_count": null,
   "id": "a99371fc-5914-436a-91ad-42c9508df0e3",
   "metadata": {},
   "outputs": [],
   "source": []
  }
 ],
 "metadata": {
  "kernelspec": {
   "display_name": "Python 3 (ipykernel)",
   "language": "python",
   "name": "python3"
  },
  "language_info": {
   "codemirror_mode": {
    "name": "ipython",
    "version": 3
   },
   "file_extension": ".py",
   "mimetype": "text/x-python",
   "name": "python",
   "nbconvert_exporter": "python",
   "pygments_lexer": "ipython3",
   "version": "3.12.1"
  }
 },
 "nbformat": 4,
 "nbformat_minor": 5
}
